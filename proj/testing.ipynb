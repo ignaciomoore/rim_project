{
 "cells": [
  {
   "cell_type": "markdown",
   "source": [
    "Transform video to audio"
   ],
   "metadata": {}
  },
  {
   "cell_type": "code",
   "execution_count": 6,
   "source": [
    "from audio_extractor import extract_audio\r\n",
    "\r\n",
    "debra_video = \"C:/Users/iggym/Documents/Movies/Baby Driver (2017) [YTS.AG]/Soundtrack/[ONTIVA.COM] Debra-144p.mp4\"\r\n",
    "debra_audio_file = \"debra_song\"\r\n",
    "\r\n",
    "baby_driver_video_file = \"C:/Users/iggym/Documents/Movies/Baby Driver (2017) [YTS.AG]/Baby.Driver.2017.720p.BluRay.x264-[YTS.AG].mp4\"\r\n",
    "baby_driver_audio_file = \"baby_driver_audio\"\r\n",
    "\r\n",
    "stw_movie = \"C:/Users/iggym/Documents/Movies/Star Wars Episode V - The Empire Strikes Back (1980) [BluRay] [720p] [YTS.AM]/Star.Wars.Episode.V.-.The.Empire.Strikes.Back.1980.720p.BluRay.x264-[YTS.AM].mp4\"\r\n",
    "stw_audio = \"starwars\"\r\n",
    "\r\n",
    "sample_rate = 22000\r\n",
    "\r\n",
    "# extract_audio(debra_video, sample_rate, debra_audio_file)\r\n",
    "# extract_audio(baby_driver_video_file, sample_rate, baby_driver_audio_file)\r\n",
    "extract_audio(stw_movie, sample_rate, stw_audio)"
   ],
   "outputs": [
    {
     "output_type": "stream",
     "name": "stdout",
     "text": [
      "C:/Users/iggym/Documents/Recuperacion de Informacion Multimedia/rim_project/debra_song.22000.wav\n",
      "Audio extracted: C:/Users/iggym/Documents/Recuperacion de Informacion Multimedia/rim_project/debra_song.22000.wav\n",
      "starwars.22000.wav\n",
      "STARTING: ffmpeg -i C:/Users/iggym/Documents/Movies/Star Wars Episode V - The Empire Strikes Back (1980) [BluRay] [720p] [YTS.AM]/Star.Wars.Episode.V.-.The.Empire.Strikes.Back.1980.720p.BluRay.x264-[YTS.AM].mp4 -ac 1 -ar 22000 starwars.22000.wav\n"
     ]
    },
    {
     "output_type": "execute_result",
     "data": {
      "text/plain": [
       "'starwars.22000.wav'"
      ]
     },
     "metadata": {},
     "execution_count": 6
    }
   ],
   "metadata": {}
  },
  {
   "cell_type": "markdown",
   "source": [
    "Generate Descriptors"
   ],
   "metadata": {}
  },
  {
   "cell_type": "code",
   "execution_count": 7,
   "source": [
    "from audio_descriptor_generator import create_audio_descriptors\r\n",
    "\r\n",
    "sample_rate = 22000\r\n",
    "descriptors_per_second = 2\r\n",
    "dimension = 32\r\n",
    "window = int(sample_rate / descriptors_per_second)\r\n",
    "hop = window\r\n",
    "\r\n",
    "baby_driver_audio_file = \"baby_driver_audio.22000.wav\"\r\n",
    "debra_song_audio_file = \"debra_song.22000.wav\"\r\n",
    "stw_audio_file = \"starwars.22000.wav\"\r\n",
    "\"\"\"\r\n",
    "debra_descriptors = create_audio_descriptors(debra_song_audio_file, sample_rate, dimension, window, hop)\r\n",
    "print(debra_descriptors.shape)\r\n",
    "baby_descriptors = create_audio_descriptors(baby_driver_audio_file, sample_rate, dimension, window, hop)\r\n",
    "print(baby_descriptors.shape)\r\n",
    "\"\"\"\r\n",
    "stw_descriptors = create_audio_descriptors(stw_audio_file, sample_rate, dimension, window, hop)\r\n",
    "print(stw_descriptors.shape)\r\n",
    "\"\"\"\r\n",
    "baby_driver_descriptors_file = f\"baby_driver_audio_descriptors_{descriptors_per_second}.bin\"\r\n",
    "debra_song_descriptors_file = f\"debra_song_descriptors_{descriptors_per_second}.bin\"\r\n",
    "\"\"\"\r\n",
    "stw_descriptors_file = f\"stw_descriptors_{descriptors_per_second}.bin\"\r\n",
    "\"\"\"\r\n",
    "debra_descriptors.tofile(debra_song_descriptors_file, sep=\"\\n\")\r\n",
    "baby_descriptors.tofile(baby_driver_descriptors_file, sep=\"\\n\")\r\n",
    "\"\"\"\r\n",
    "stw_descriptors.tofile(stw_descriptors_file, sep=\"\\n\")\r\n",
    "\"\"\"\r\n",
    "song_shape = debra_descriptors.shape\r\n",
    "movie_shape = baby_descriptors.shape\r\n",
    "\"\"\"\r\n",
    "stw_shape = stw_descriptors.shape"
   ],
   "outputs": [
    {
     "output_type": "stream",
     "name": "stdout",
     "text": [
      "1.12 seconds\n",
      "(3434, 32)\n",
      "(15284, 32)\n"
     ]
    }
   ],
   "metadata": {}
  },
  {
   "cell_type": "markdown",
   "source": [
    "Calculate distances"
   ],
   "metadata": {}
  },
  {
   "cell_type": "code",
   "execution_count": 24,
   "source": [
    "import numpy\r\n",
    "import time\r\n",
    "from scipy.spatial import distance\r\n",
    "\r\n",
    "descriptors_per_second = 2\r\n",
    "\"\"\"\r\n",
    "song_shape = (687, 32)\r\n",
    "\"\"\"\r\n",
    "movie_shape = (13520, 32)\r\n",
    "stw_shape = (15284, 32)\r\n",
    "\r\n",
    "baby_driver_descriptors_file = f\"baby_driver_audio_descriptors_{descriptors_per_second}.bin\"\r\n",
    "# debra_song_descriptors_file = \"debra_song_descriptors.bin\"\r\n",
    "debra_song_descriptors_file = f\"debra_song_descriptors_{descriptors_per_second}.bin\"\r\n",
    "stw_descriptors_file = f\"stw_descriptors_{descriptors_per_second}.bin\"\r\n",
    "\r\n",
    "debra_song_shape = (687, 32)\r\n",
    "\r\n",
    "song_descriptors = numpy.fromfile(debra_song_descriptors_file, sep=\"\\n\").reshape(debra_song_shape)\r\n",
    "print(f\"Debra {song_descriptors.shape}\")\r\n",
    "# print(song_descriptors[10:-10].shape)\r\n",
    "\r\n",
    "# movie_shape = movie_shape\r\n",
    "stw_descriptors = numpy.fromfile(stw_descriptors_file, sep=\"\\n\").reshape(stw_shape)\r\n",
    "print(f\"Starwars {stw_descriptors.shape}\")\r\n",
    "\r\n",
    "movie_descriptors = numpy.fromfile(baby_driver_descriptors_file, sep=\"\\n\").reshape(movie_shape)\r\n",
    "print(f\"Baby {movie_descriptors.shape}\")\r\n",
    "\r\n",
    "\r\n",
    "\r\n",
    "t0 = time.time()\r\n",
    "distances = distance.cdist(stw_descriptors, stw_descriptors)\r\n",
    "# distances = distance.cdist(movie_descriptors, movie_descriptors)\r\n",
    "t1 = time.time()\r\n",
    "\r\n",
    "print(f\"Distances {distances.shape} {round(t1-t0, 2)} secs\")"
   ],
   "outputs": [
    {
     "output_type": "stream",
     "name": "stdout",
     "text": [
      "Debra (687, 32)\n",
      "Starwars (15284, 32)\n",
      "Baby (13520, 32)\n",
      "Distances (15284, 15284) 11.58 secs\n"
     ]
    }
   ],
   "metadata": {}
  },
  {
   "cell_type": "code",
   "execution_count": 12,
   "source": [
    "import numpy\r\n",
    "from scipy.spatial import distance\r\n",
    "\r\n",
    "descriptors_per_second = 2\r\n",
    "movie_shape = (13520, 32)\r\n",
    "baby_driver_descriptors_file = f\"baby_driver_audio_descriptors_{descriptors_per_second}.bin\"\r\n",
    "movie_descriptors = numpy.fromfile(stw_descriptors_file, sep=\"\\n\").reshape(stw_shape)\r\n",
    "print(movie_descriptors.shape)\r\n",
    "\r\n",
    "\r\n",
    "distances = distance.cdist(movie_descriptors, movie_descriptors)\r\n",
    "\"\"\"\r\n",
    "i0 = movie_descriptors[0]\r\n",
    "i = movie_descriptors[round(13520/2)]\r\n",
    "i13519 = movie_descriptors[13519]\r\n",
    "\r\n",
    "print(numpy.linalg.norm(i13519 - i0))\r\n",
    "print(numpy.linalg.norm(i - i0))\r\n",
    "print(numpy.linalg.norm(i13519 - i))\r\n",
    "\r\n",
    "\"\"\"\r\n",
    "\r\n",
    "\"\"\"\r\n",
    "min_offset_seconds = 5\r\n",
    "min_offset_descriptors = min_offset_seconds * descriptors_per_second\r\n",
    "\r\n",
    "distances_2 = distance.cdist(movie_descriptors, movie_descriptors)\r\n",
    "distances_2 = numpy.tril(distances_2, -min_offset_descriptors)\r\n",
    "print(distances_2.shape)\r\n",
    "minimum = 1000000\r\n",
    "indexes = (0, 0)\r\n",
    "min_dist = distances_2[distances_2 > 10].min()\r\n",
    "\"\"\"\r\n"
   ],
   "outputs": [
    {
     "output_type": "stream",
     "name": "stdout",
     "text": [
      "(15284, 32)\n"
     ]
    },
    {
     "output_type": "execute_result",
     "data": {
      "text/plain": [
       "'\\nmin_offset_seconds = 5\\nmin_offset_descriptors = min_offset_seconds * descriptors_per_second\\n\\ndistances_2 = distance.cdist(movie_descriptors, movie_descriptors)\\ndistances_2 = numpy.tril(distances_2, -min_offset_descriptors)\\nprint(distances_2.shape)\\nminimum = 1000000\\nindexes = (0, 0)\\nmin_dist = distances_2[distances_2 > 10].min()\\n'"
      ]
     },
     "metadata": {},
     "execution_count": 12
    }
   ],
   "metadata": {}
  },
  {
   "cell_type": "code",
   "execution_count": 11,
   "source": [
    "import datetime\r\n",
    "\r\n",
    "location = numpy.where(distances_2 == min_dist)\r\n",
    "listOfCordinates = list(zip(location[0], location[1]))\r\n",
    "print(min_dist)\r\n",
    "for cord in listOfCordinates:\r\n",
    "    print(f\"{datetime.timedelta(seconds=round(cord[0] / descriptors_per_second))} | {datetime.timedelta(seconds=round(cord[1] / descriptors_per_second))}\")"
   ],
   "outputs": [
    {
     "output_type": "stream",
     "name": "stdout",
     "text": [
      "10.00369173688756\n",
      "1:32:40 | 1:31:59\n"
     ]
    }
   ],
   "metadata": {}
  },
  {
   "cell_type": "markdown",
   "source": [
    "Get neighbours"
   ],
   "metadata": {}
  },
  {
   "cell_type": "code",
   "execution_count": 26,
   "source": [
    "from duplicate_searcher import Neighbours\r\n",
    "import time\r\n",
    "\r\n",
    "number_of_neighbours = 10\r\n",
    "\r\n",
    "neighbours = []\r\n",
    "total = distances.shape[0]\r\n",
    "t10 = time.time()\r\n",
    "for i in range(distances.shape[0]):\r\n",
    "    print(f\"Progress: {round((i/total)*100, 2)}%\", end=\"\\r\")\r\n",
    "    song_descriptor = distances[i]\r\n",
    "    neighs = numpy.argpartition(song_descriptor, number_of_neighbours)[:number_of_neighbours]\r\n",
    "    neighbours.append(neighs)\r\n",
    "t11 = time.time()\r\n",
    "neighbours = Neighbours(numpy.array(neighbours))\r\n",
    "print(f\"Neighbours {neighbours.shape()} {round(t11-t10, 2)} secs\")"
   ],
   "outputs": [
    {
     "output_type": "stream",
     "name": "stdout",
     "text": [
      "Neighbours (15284, 10) 30.67 secs\n"
     ]
    }
   ],
   "metadata": {}
  },
  {
   "cell_type": "markdown",
   "source": [
    "Get Candidates"
   ],
   "metadata": {}
  },
  {
   "cell_type": "code",
   "execution_count": null,
   "source": [
    "number_of_candidates = 100\r\n",
    "min_offset_seconds = 10\r\n",
    "min_offset_descriptors = min_offset_seconds * descriptors_per_second\r\n",
    "\r\n",
    "distances_2 = numpy.tril(distances, -min_offset_descriptors)\r\n",
    "\r\n",
    "min_candidates = {}\r\n",
    "\r\n",
    "for i in range(len(distances_2.shape[0])):\r\n",
    "    row = distances_2[i]\r\n",
    "    for j in range(len(distances_2.shape[1])):\r\n",
    "        value = distances_2[j]\r\n",
    "        \r\n",
    "        if value == 0:\r\n",
    "            continue\r\n",
    "        elif len(min_candidates) < number_of_candidates:\r\n",
    "            min_candidates(value) = (i, j)\r\n",
    "        else:\r\n",
    "            # TODO\r\n"
   ],
   "outputs": [],
   "metadata": {}
  },
  {
   "cell_type": "markdown",
   "source": [
    "Create Candidates"
   ],
   "metadata": {}
  },
  {
   "cell_type": "code",
   "execution_count": 5,
   "source": [
    "from duplicate_searcher import Candidate\r\n",
    "\r\n",
    "candidates = []\r\n",
    "song_indexes = range(distances.shape[0])\r\n",
    "total_songs = distances.shape[0]\r\n",
    "for song in song_indexes:\r\n",
    "    print(f\"Progress {round((song/total_songs)*100, 2)}%\", end=\"\\r\")\r\n",
    "    for neighbour in neighbours.search(song):\r\n",
    "        candidates.append(Candidate(song, neighbour, descriptors_per_second))\r\n",
    "\r\n",
    "print(f\" Candidates {len(candidates)}\")\r\n"
   ],
   "outputs": [
    {
     "output_type": "stream",
     "name": "stdout",
     "text": [
      " Candidates 6870\n"
     ]
    }
   ],
   "metadata": {}
  },
  {
   "cell_type": "markdown",
   "source": [
    "Find sequence"
   ],
   "metadata": {}
  },
  {
   "cell_type": "code",
   "execution_count": 17,
   "source": [
    "copies = []\r\n",
    "\r\n",
    "max_missing_streak_secs = 1\r\n",
    "max_missing_streak = max_missing_streak_secs * descriptors_per_second\r\n",
    "min_duration_seconds = 3\r\n",
    "min_duration = min_duration_seconds * descriptors_per_second\r\n",
    "\r\n",
    "total_candidates = len(candidates)\r\n",
    "for i in range(len(candidates)):\r\n",
    "    print(f\"Progress {round((i/total_candidates)*100, 2)}%\", end=\"\\r\")\r\n",
    "    cand = candidates[i]\r\n",
    "    current_candidate = cand.find_next(neighbours, max_missing_streak)\r\n",
    "    if current_candidate.sequence_duration >= min_duration and current_candidate.score() >= 1:\r\n",
    "        copies.append(current_candidate)\r\n",
    "\r\n",
    "print(len(copies))   \r\n",
    "    "
   ],
   "outputs": [
    {
     "output_type": "stream",
     "name": "stdout",
     "text": [
      "30\n"
     ]
    }
   ],
   "metadata": {}
  },
  {
   "cell_type": "markdown",
   "source": [
    "Contain"
   ],
   "metadata": {}
  },
  {
   "cell_type": "code",
   "execution_count": 18,
   "source": [
    "filtered = []\r\n",
    "\r\n",
    "for i in range(len(copies)):\r\n",
    "    print(f\"Progress {round((i/len(copies))*100, 2)}%\", end=\"\\r\")\r\n",
    "    cani = copies[i]\r\n",
    "    add = True\r\n",
    "    for j in range(len(copies)):\r\n",
    "        canj = copies[j]\r\n",
    "        \r\n",
    "        if i == j:\r\n",
    "            continue\r\n",
    "        \r\n",
    "        elif cani.contains(canj):\r\n",
    "            add = False\r\n",
    "            break\r\n",
    "    \r\n",
    "    if add:\r\n",
    "        filtered.append(cani)\r\n",
    "\r\n",
    "print(len(filtered))\r\n"
   ],
   "outputs": [
    {
     "output_type": "stream",
     "name": "stdout",
     "text": [
      "13\n"
     ]
    }
   ],
   "metadata": {}
  },
  {
   "cell_type": "markdown",
   "source": [
    "Sort"
   ],
   "metadata": {}
  },
  {
   "cell_type": "code",
   "execution_count": 19,
   "source": [
    "# sorted_candidates = filtered\r\n",
    "sorted_candidates = sorted(filtered, key=lambda c: c.song_descriptor_index)\r\n",
    "\r\n",
    "print(len(sorted_candidates))"
   ],
   "outputs": [
    {
     "output_type": "stream",
     "name": "stdout",
     "text": [
      "13\n"
     ]
    }
   ],
   "metadata": {}
  },
  {
   "cell_type": "markdown",
   "source": [
    "Combine"
   ],
   "metadata": {}
  },
  {
   "cell_type": "code",
   "execution_count": 20,
   "source": [
    "max_offset_secs = 2\r\n",
    "max_offset = max_offset_secs * descriptors_per_second\r\n",
    "max_combine_dist_secs = 3\r\n",
    "max_combine_distance = max_combine_dist_secs * descriptors_per_second\r\n",
    "\r\n",
    "for i in range(len(sorted_candidates)):\r\n",
    "    copy_i = sorted_candidates[i]\r\n",
    "    for j in range(i + 1, len(sorted_candidates)):\r\n",
    "        copy_j = sorted_candidates[j]\r\n",
    "\r\n",
    "        if (copy_i.distance(copy_j) <= max_combine_distance) and (copy_i.offset_diff(copy_j) <= max_offset):\r\n",
    "            copy_i.combine(copy_j)\r\n",
    "\r\n",
    "print(len(sorted_candidates))"
   ],
   "outputs": [
    {
     "output_type": "stream",
     "name": "stdout",
     "text": [
      "13\n"
     ]
    }
   ],
   "metadata": {}
  },
  {
   "cell_type": "markdown",
   "source": [
    "Overlapped"
   ],
   "metadata": {}
  },
  {
   "cell_type": "code",
   "execution_count": 21,
   "source": [
    "repeated = set()\r\n",
    "off_set_diff_limit_secs = 10\r\n",
    "off_set_diff_limit = off_set_diff_limit_secs * descriptors_per_second\r\n",
    "max_overlap_dist_secs = 3\r\n",
    "max_overlap_distance = max_overlap_dist_secs * descriptors_per_second\r\n",
    "\r\n",
    "for i in range(len(sorted_candidates)):\r\n",
    "    copy_i = sorted_candidates[i]\r\n",
    "    for j in range(i + 1, len(sorted_candidates)):\r\n",
    "        copy_j = sorted_candidates[j]\r\n",
    "\r\n",
    "        if copy_i.distance(copy_j) <= max_overlap_distance and copy_i.offset_diff(copy_j) <= off_set_diff_limit_secs:\r\n",
    "            if copy_i.sequence_duration >= copy_j.sequence_duration:\r\n",
    "                repeated.add(copy_j)\r\n",
    "            else:\r\n",
    "                repeated.add(copy_i)\r\n",
    "\r\n",
    "for copy in repeated:\r\n",
    "    sorted_candidates.remove(copy)\r\n",
    "\r\n",
    "print(len(sorted_candidates))"
   ],
   "outputs": [
    {
     "output_type": "stream",
     "name": "stdout",
     "text": [
      "5\n"
     ]
    }
   ],
   "metadata": {}
  },
  {
   "cell_type": "markdown",
   "source": [
    "Delete short copies"
   ],
   "metadata": {}
  },
  {
   "cell_type": "code",
   "execution_count": 22,
   "source": [
    "filtered_copies = []\r\n",
    "\r\n",
    "for copy in sorted_candidates:\r\n",
    "    if copy.sequence_duration > min_duration:\r\n",
    "        filtered_copies.append(copy)\r\n",
    "\r\n",
    "print(len(filtered_copies))"
   ],
   "outputs": [
    {
     "output_type": "stream",
     "name": "stdout",
     "text": [
      "5\n"
     ]
    }
   ],
   "metadata": {}
  },
  {
   "cell_type": "markdown",
   "source": [
    "Show Sequences"
   ],
   "metadata": {}
  },
  {
   "cell_type": "code",
   "execution_count": 23,
   "source": [
    "import datetime\r\n",
    "\r\n",
    "print(\"Song secs | Movie secs\")\r\n",
    "\r\n",
    "# Debra starts in aprox. 0:41:30\r\n",
    "add_cut = 0\r\n",
    "\r\n",
    "for match in filtered_copies:\r\n",
    "    # print(f\"{match.song_descriptor_index} - {match.song_end_index()} | {match.movie_descriptor_index} - {match.movie_end_index()}\")\r\n",
    "    print(f\"{str(datetime.timedelta(seconds=int((match.song_descriptor_index + add_cut) / descriptors_per_second)))} - {str(datetime.timedelta(seconds=int((match.song_end_index() + add_cut) / descriptors_per_second)))} | {str(datetime.timedelta(seconds=int((match.movie_descriptor_index + add_cut) / descriptors_per_second)))} - {str(datetime.timedelta(seconds=int((match.movie_end_index() + add_cut) / descriptors_per_second)))}\")"
   ],
   "outputs": [
    {
     "output_type": "stream",
     "name": "stdout",
     "text": [
      "Song secs | Movie secs\n",
      "0:00:13 - 0:00:17 | 1:26:45 - 1:26:49\n",
      "0:03:25 - 0:03:29 | 0:27:39 - 0:27:43\n",
      "0:04:17 - 0:04:20 | 1:04:47 - 1:04:51\n",
      "0:05:36 - 0:05:43 | 1:52:33 - 1:52:39\n",
      "0:05:39 - 0:05:43 | 0:00:00 - 0:00:04\n"
     ]
    }
   ],
   "metadata": {}
  }
 ],
 "metadata": {
  "orig_nbformat": 4,
  "language_info": {
   "name": "python",
   "version": "3.9.5",
   "mimetype": "text/x-python",
   "codemirror_mode": {
    "name": "ipython",
    "version": 3
   },
   "pygments_lexer": "ipython3",
   "nbconvert_exporter": "python",
   "file_extension": ".py"
  },
  "kernelspec": {
   "name": "python3",
   "display_name": "Python 3.9.5 64-bit ('venv': venv)"
  },
  "interpreter": {
   "hash": "ca6a9a1abb67279cc6f0e36aadd8ff03701a01f4d9bfacb150a8ba37d2d9c784"
  }
 },
 "nbformat": 4,
 "nbformat_minor": 2
}