{
 "cells": [
  {
   "cell_type": "markdown",
   "source": [
    "# Encontrar audios duplicados en videos de television"
   ],
   "metadata": {}
  },
  {
   "cell_type": "markdown",
   "source": [
    "Extract audio"
   ],
   "metadata": {}
  },
  {
   "cell_type": "code",
   "execution_count": null,
   "source": [
    "import os\r\n",
    "import subprocess\r\n",
    "\r\n",
    "from audio_extractor import extract_audio\r\n",
    "from auxilar_functions import get_video_names, get_video_and_audio_paths\r\n",
    "\r\n",
    "work_path = \"C:/Users/iggym/Documents/Recuperacion de Informacion Multimedia/rim_project/movies/\"\r\n",
    "datasets = [\"a\", \"b\", \"c\"]\r\n",
    "\r\n",
    "video_names = get_video_names(datasets, work_path)\r\n",
    "\r\n",
    "video_paths, audio_paths = get_video_and_audio_paths(work_path, datasets, video_names)\r\n",
    "\r\n",
    "sample_rate = 22000\r\n",
    "\r\n",
    "for audio_path in audio_paths:\r\n",
    "    if not os.path.isdir(audio_path):\r\n",
    "        os.mkdir(audio_path)\r\n",
    "\r\n",
    "j = 0\r\n",
    "for i in range(len(datasets)):\r\n",
    "    for video_name in video_names[i]:\r\n",
    "        extract_audio(video_paths[j], sample_rate, f\"{audio_paths[i]}/{video_name}\")\r\n",
    "        j+=1"
   ],
   "outputs": [],
   "metadata": {}
  },
  {
   "cell_type": "markdown",
   "source": [
    "Generate descriptors"
   ],
   "metadata": {}
  },
  {
   "cell_type": "code",
   "execution_count": null,
   "source": [
    "from audio_descriptor_generator import run_process\r\n",
    "from auxilar_functions import get_video_names, get_video_and_audio_paths\r\n",
    "\r\n",
    "work_path = \"C:/Users/iggym/Documents/Recuperacion de Informacion Multimedia/rim_project/movies/\"\r\n",
    "datasets = [\"a\", \"b\", \"c\"]\r\n",
    "sample_rate = 22000\r\n",
    "\r\n",
    "video_names = get_video_names(datasets, work_path)\r\n",
    "video_paths, audio_paths = get_video_and_audio_paths(work_path, datasets, video_names)\r\n",
    "\r\n",
    "descriptor_paths = []\r\n",
    "for dataset in datasets:\r\n",
    "    descriptor_paths.append(f\"{work_path}dataset_{dataset}/descriptors\")\r\n",
    "\r\n",
    "for descriptor_path in descriptor_paths:\r\n",
    "    if not os.path.isdir(descriptor_path):\r\n",
    "        os.mkdir(descriptor_path)\r\n",
    "\r\n",
    "j = 0\r\n",
    "for i in range(len(datasets)):\r\n",
    "    for video_name in video_names[i]:\r\n",
    "        print(f\"    Progress: {j+1}/{len(video_paths)}\")\r\n",
    "        run_process(f\"{audio_paths[i]}/{video_name}.{sample_rate}.wav\", f\"{video_name}_\", f\"{work_path}dataset_{datasets[i]}/\")\r\n",
    "        j+=1"
   ],
   "outputs": [],
   "metadata": {}
  },
  {
   "cell_type": "markdown",
   "source": [
    "Get results"
   ],
   "metadata": {}
  },
  {
   "cell_type": "code",
   "execution_count": null,
   "source": [
    "from main import run_process, show_results\r\n",
    "\r\n",
    "work_path = \"C:/Users/iggym/Documents/Recuperacion de Informacion Multimedia/rim_project/movies/\"\r\n",
    "datasets = [\"a\", \"b\", \"c\"]\r\n",
    "\r\n",
    "video_names = get_video_names(datasets, work_path)\r\n",
    "\r\n",
    "sequence_length = [3, 10, 30]\r\n",
    "number_of_neighbours = [5, 10, 20]\r\n",
    "\r\n",
    "descriptors_per_second = 2\r\n",
    "descriptors_shapes = [[7177, 7201], [7201, 7202], [7023, 7201]]\r\n",
    "\r\n",
    "descriptor_files = []\r\n",
    "\r\n",
    "for j in range(len(datasets)):\r\n",
    "    dataset = datasets[j]\r\n",
    "    for i in range(len(video_names[j])):\r\n",
    "        descriptor_files.append(f\"{work_path}dataset_{dataset}/descriptors/{video_names[j][i]}__{descriptors_per_second}_{descriptors_shapes[j][i]}.bin\")\r\n",
    "\r\n",
    "actual_results = []\r\n",
    "progress = 0\r\n",
    "total_progress = len(datasets) * len(sequence_length) * len(number_of_neighbours)\r\n",
    "for i in range(len(datasets)):\r\n",
    "    for seq_len in sequence_length:\r\n",
    "        for num_neighs in number_of_neighbours:\r\n",
    "            progress += 1\r\n",
    "            print(f\"Dataset {datasets[i]} | Seq Len {seq_len} | Num Neighs {num_neighs} | Progress {progress}/{total_progress}\")\r\n",
    "            results, descriptors_per_second = run_process(descriptor_files[i*2:i*2+2], seq_len, num_neighs, same_audio=False)\r\n",
    "            actual_results.append(results)"
   ],
   "outputs": [],
   "metadata": {}
  },
  {
   "cell_type": "markdown",
   "source": [
    "Evaluate results"
   ],
   "metadata": {}
  },
  {
   "cell_type": "code",
   "execution_count": null,
   "source": [
    "import pandas\r\n",
    "from auxilar_functions import read_target_matrix, get_evaluations\r\n",
    "\r\n",
    "all_evaluations = []\r\n",
    "\r\n",
    "results_index = 0\r\n",
    "for i in range(len(datasets)):\r\n",
    "    dataset = datasets[i]\r\n",
    "    target_file = f\"{work_path}dataset_{dataset}/gt.txt\"\r\n",
    "    \r\n",
    "    for j in range(len(sequence_length)):\r\n",
    "        for w in range(len(number_of_neighbours)):\r\n",
    "            print(f\"Progress {round(results_index/len(actual_results)*100, 2)}%\", end=\"\\r\")\r\n",
    "            target_matrix = read_target_matrix(target_file)\r\n",
    "            results = actual_results[results_index]\r\n",
    "            evaluation = get_evaluations(target_matrix, results, video_names[i])\r\n",
    "            all_evaluations.append([dataset, sequence_length[j], number_of_neighbours[w], evaluation])\r\n",
    "            results_index += 1"
   ],
   "outputs": [],
   "metadata": {}
  },
  {
   "cell_type": "markdown",
   "source": [
    "Calculate Precision"
   ],
   "metadata": {}
  },
  {
   "cell_type": "code",
   "execution_count": null,
   "source": [
    "new_stats = []\r\n",
    "for i in range(len(all_evaluations)):\r\n",
    "    results = actual_results[i]\r\n",
    "    total_results = len(results)\r\n",
    "    df = pandas.DataFrame(all_evaluations[i][3], columns=[\"Match\", \"Comercial\", \"matches?\"])\r\n",
    "    false_positives = len(df[df[\"matches?\"] == 0])\r\n",
    "    true_positives = len(df[df[\"matches?\"] == 1])\r\n",
    "    if true_positives + false_positives == 0:\r\n",
    "        precision = 0\r\n",
    "    else:\r\n",
    "        precision = round(true_positives / (true_positives + false_positives) * 100, 2)\r\n",
    "    stats = all_evaluations[i][:3]\r\n",
    "    stats.append(precision)\r\n",
    "    new_stats.append(stats)\r\n",
    "\r\n",
    "headers = [\"Dataset\", \"Sequence Length\", \"Number of Neighbours\", \"Precision\"]\r\n",
    "\r\n",
    "final_stats = pandas.DataFrame(new_stats, columns=headers)\r\n"
   ],
   "outputs": [],
   "metadata": {}
  },
  {
   "cell_type": "markdown",
   "source": [
    "## Plots"
   ],
   "metadata": {}
  },
  {
   "cell_type": "markdown",
   "source": [
    "Dataset A"
   ],
   "metadata": {}
  },
  {
   "cell_type": "code",
   "execution_count": null,
   "source": [
    "df1 = final_stats[final_stats[\"Dataset\"] == \"a\"].pivot(index=\"Sequence Length\", columns=\"Number of Neighbours\", values=\"Precision\")\r\n",
    "df2 = final_stats[final_stats[\"Dataset\"] == \"b\"].pivot(index=\"Sequence Length\", columns=\"Number of Neighbours\", values=\"Precision\")\r\n",
    "df3 = final_stats[final_stats[\"Dataset\"] == \"c\"].pivot(index=\"Sequence Length\", columns=\"Number of Neighbours\", values=\"Precision\")\r\n",
    "\r\n",
    "df1.style.background_gradient(cmap=\"Blues\")"
   ],
   "outputs": [],
   "metadata": {}
  },
  {
   "cell_type": "markdown",
   "source": [
    "Dataset B"
   ],
   "metadata": {}
  },
  {
   "cell_type": "code",
   "execution_count": null,
   "source": [
    "df2.style.background_gradient(cmap=\"Reds\")"
   ],
   "outputs": [],
   "metadata": {}
  },
  {
   "cell_type": "markdown",
   "source": [
    "Dataset C"
   ],
   "metadata": {}
  },
  {
   "cell_type": "code",
   "execution_count": null,
   "source": [
    "df3.style.background_gradient(cmap=\"Greens\")"
   ],
   "outputs": [],
   "metadata": {}
  }
 ],
 "metadata": {
  "orig_nbformat": 4,
  "language_info": {
   "name": "python",
   "version": "3.9.5",
   "mimetype": "text/x-python",
   "codemirror_mode": {
    "name": "ipython",
    "version": 3
   },
   "pygments_lexer": "ipython3",
   "nbconvert_exporter": "python",
   "file_extension": ".py"
  },
  "kernelspec": {
   "name": "python3",
   "display_name": "Python 3.9.5 64-bit ('venv': venv)"
  },
  "interpreter": {
   "hash": "ca6a9a1abb67279cc6f0e36aadd8ff03701a01f4d9bfacb150a8ba37d2d9c784"
  }
 },
 "nbformat": 4,
 "nbformat_minor": 2
}