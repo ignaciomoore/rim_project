{
 "cells": [
  {
   "cell_type": "markdown",
   "source": [
    "Transform video to audio"
   ],
   "metadata": {}
  },
  {
   "cell_type": "code",
   "execution_count": null,
   "source": [
    "from audio_extractor import extract_audio\r\n",
    "\r\n",
    "debra_video = \"C:/Users/iggym/Documents/Movies/Baby Driver (2017) [YTS.AG]/Soundtrack/[ONTIVA.COM] Debra-144p.mp4\"\r\n",
    "debra_audio_file = \"debra_song\"\r\n",
    "\r\n",
    "baby_driver_video_file = \"C:/Users/iggym/Documents/Movies/Baby Driver (2017) [YTS.AG]/Baby.Driver.2017.720p.BluRay.x264-[YTS.AG].mp4\"\r\n",
    "baby_driver_audio_file = \"baby_driver_audio\"\r\n",
    "\r\n",
    "sample_rate = 22000\r\n",
    "\r\n",
    "extract_audio(debra_video, sample_rate, debra_audio_file)\r\n",
    "extract_audio(baby_driver_video_file, sample_rate, baby_driver_audio_file)"
   ],
   "outputs": [],
   "metadata": {}
  },
  {
   "cell_type": "markdown",
   "source": [
    "Generate Descriptors"
   ],
   "metadata": {}
  },
  {
   "cell_type": "code",
   "execution_count": 12,
   "source": [
    "from audio_descriptor_generator import create_audio_descriptors\r\n",
    "\r\n",
    "sample_rate = 22000\r\n",
    "descriptors_per_second = 10\r\n",
    "dimension = 32\r\n",
    "window = int(sample_rate / descriptors_per_second)\r\n",
    "hop = window\r\n",
    "\r\n",
    "baby_driver_audio_file = \"baby_driver_audio.22000.wav\"\r\n",
    "debra_song_audio_file = \"debra_song.22000.wav\"\r\n",
    "\r\n",
    "debra_descriptors = create_audio_descriptors(debra_song_audio_file, sample_rate, dimension, window, hop)\r\n",
    "print(debra_descriptors.shape)\r\n",
    "baby_descriptors = create_audio_descriptors(baby_driver_audio_file, sample_rate, dimension, window, hop)\r\n",
    "print(baby_descriptors.shape)\r\n",
    "\r\n",
    "baby_driver_descriptors_file = f\"baby_driver_audio_descriptors_{descriptors_per_second}.bin\"\r\n",
    "debra_song_descriptors_file = f\"debra_song_descriptors_{descriptors_per_second}.bin\"\r\n",
    "\r\n",
    "debra_descriptors.tofile(debra_song_descriptors_file, sep=\"\\n\")\r\n",
    "baby_descriptors.tofile(baby_driver_descriptors_file, sep=\"\\n\")\r\n",
    "\r\n",
    "song_shape = debra_descriptors.shape\r\n",
    "movie_shape = baby_descriptors.shape"
   ],
   "outputs": [
    {
     "output_type": "stream",
     "name": "stdout",
     "text": [
      "(3434, 32)\n",
      "(67598, 32)\n"
     ]
    }
   ],
   "metadata": {}
  },
  {
   "cell_type": "markdown",
   "source": [
    "Calculate distances"
   ],
   "metadata": {}
  },
  {
   "cell_type": "code",
   "execution_count": 13,
   "source": [
    "import numpy\r\n",
    "import time\r\n",
    "from scipy.spatial import distance\r\n",
    "\"\"\"\r\n",
    "descriptors_per_second = 10\r\n",
    "song_shape = (687, 32)\r\n",
    "movie_shape = (13520, 32)\r\n",
    "\"\"\"\r\n",
    "baby_driver_descriptors_file = f\"baby_driver_audio_descriptors_{descriptors_per_second}.bin\"\r\n",
    "# debra_song_descriptors_file = \"debra_song_descriptors.bin\"\r\n",
    "debra_song_descriptors_file = f\"debra_song_descriptors_{descriptors_per_second}.bin\"\r\n",
    "\r\n",
    "debra_song_shape = song_shape\r\n",
    "\r\n",
    "song_descriptors = numpy.fromfile(debra_song_descriptors_file, sep=\"\\n\").reshape(debra_song_shape)\r\n",
    "print(song_descriptors.shape)\r\n",
    "\r\n",
    "movie_shape = movie_shape\r\n",
    "movie_descriptors = numpy.fromfile(baby_driver_descriptors_file, sep=\"\\n\").reshape(movie_shape)\r\n",
    "print(movie_descriptors.shape)\r\n",
    "\r\n",
    "t0 = time.time()\r\n",
    "distances = distance.cdist(song_descriptors, movie_descriptors)\r\n",
    "# distances = distance.cdist(movie_descriptors, movie_descriptors)\r\n",
    "t1 = time.time()\r\n",
    "\r\n",
    "print(f\"Distances {distances.shape} {round(t1-t0, 2)} secs\")"
   ],
   "outputs": [
    {
     "output_type": "stream",
     "name": "stdout",
     "text": [
      "(3434, 32)\n",
      "(67598, 32)\n",
      "Distances (3434, 67598) 12.84 secs\n"
     ]
    }
   ],
   "metadata": {}
  },
  {
   "cell_type": "markdown",
   "source": [
    "Get neighbours"
   ],
   "metadata": {}
  },
  {
   "cell_type": "code",
   "execution_count": 26,
   "source": [
    "from duplicate_searcher import Neighbours\r\n",
    "\r\n",
    "number_of_neighbours = 10\r\n",
    "\r\n",
    "neighbour_file = \"neighbours.txt\"\r\n",
    "neighbours = []\r\n",
    "total = distances.shape[0]\r\n",
    "t10 = time.time()\r\n",
    "for i in range(distances.shape[0]):\r\n",
    "    print(f\"Progress: {round((i/total)*100, 2)}%\", end=\"\\r\")\r\n",
    "    song_descriptor = distances[i]\r\n",
    "    neighs = numpy.argpartition(song_descriptor, number_of_neighbours)[:number_of_neighbours]\r\n",
    "    neighbours.append(neighs)\r\n",
    "t11 = time.time()\r\n",
    "neighbours = Neighbours(numpy.array(neighbours))\r\n",
    "print(f\"Neighbours {neighbours.shape()} {round(t11-t10, 2)} secs\")"
   ],
   "outputs": [
    {
     "output_type": "stream",
     "name": "stdout",
     "text": [
      "Neighbours (3434, 10) 6.69 secs\n"
     ]
    }
   ],
   "metadata": {}
  },
  {
   "cell_type": "markdown",
   "source": [
    "Create Candidates"
   ],
   "metadata": {}
  },
  {
   "cell_type": "code",
   "execution_count": 27,
   "source": [
    "from duplicate_searcher import Candidate\r\n",
    "\r\n",
    "candidates = []\r\n",
    "song_indexes = range(distances.shape[0])\r\n",
    "total_songs = distances.shape[0]\r\n",
    "for song in song_indexes:\r\n",
    "    print(f\"Progress {round((song/total_songs)*100, 2)}%\", end=\"\\r\")\r\n",
    "    for neighbour in neighbours.search(song):\r\n",
    "        candidates.append(Candidate(song, neighbour, descriptors_per_second))\r\n",
    "\r\n",
    "print(f\" Candidates {len(candidates)}\")\r\n"
   ],
   "outputs": [
    {
     "output_type": "stream",
     "name": "stdout",
     "text": [
      " Candidates 34340\n"
     ]
    }
   ],
   "metadata": {}
  },
  {
   "cell_type": "markdown",
   "source": [
    "Find sequence"
   ],
   "metadata": {}
  },
  {
   "cell_type": "code",
   "execution_count": 29,
   "source": [
    "copies = []\r\n",
    "\r\n",
    "max_missing_streak_secs = 1\r\n",
    "max_missing_streak = max_missing_streak_secs * descriptors_per_second\r\n",
    "min_duration_seconds = 2\r\n",
    "min_duration = min_duration_seconds * descriptors_per_second\r\n",
    "\r\n",
    "total_candidates = len(candidates)\r\n",
    "for i in range(len(candidates)):\r\n",
    "    print(f\"Progress {round((i/total_candidates)*100, 2)}%\", end=\"\\r\")\r\n",
    "    cand = candidates[i]\r\n",
    "    current_candidate = cand.find_next(neighbours, max_missing_streak)\r\n",
    "    if current_candidate.sequence_duration >= min_duration and current_candidate.score() >= 1:\r\n",
    "        copies.append(current_candidate)\r\n",
    "\r\n",
    "print(len(copies))   \r\n",
    "    "
   ],
   "outputs": [
    {
     "output_type": "stream",
     "name": "stdout",
     "text": [
      "84\n"
     ]
    }
   ],
   "metadata": {}
  },
  {
   "cell_type": "markdown",
   "source": [
    "Contain"
   ],
   "metadata": {}
  },
  {
   "cell_type": "code",
   "execution_count": 30,
   "source": [
    "filtered = []\r\n",
    "\r\n",
    "for i in range(len(copies)):\r\n",
    "    print(f\"Progress {round((i/len(copies))*100, 2)}%\", end=\"\\r\")\r\n",
    "    cani = copies[i]\r\n",
    "    add = True\r\n",
    "    for j in range(len(copies)):\r\n",
    "        canj = copies[j]\r\n",
    "        \r\n",
    "        if i == j:\r\n",
    "            continue\r\n",
    "        \r\n",
    "        elif cani.contains(canj):\r\n",
    "            add = False\r\n",
    "            break\r\n",
    "    \r\n",
    "    if add:\r\n",
    "        filtered.append(cani)\r\n",
    "\r\n",
    "print(len(filtered))\r\n"
   ],
   "outputs": [
    {
     "output_type": "stream",
     "name": "stdout",
     "text": [
      "40\n"
     ]
    }
   ],
   "metadata": {}
  },
  {
   "cell_type": "markdown",
   "source": [
    "Sort"
   ],
   "metadata": {}
  },
  {
   "cell_type": "code",
   "execution_count": 31,
   "source": [
    "# sorted_candidates = filtered\r\n",
    "sorted_candidates = sorted(filtered, key=lambda c: c.song_descriptor_index)\r\n",
    "\r\n",
    "print(len(sorted_candidates))"
   ],
   "outputs": [
    {
     "output_type": "stream",
     "name": "stdout",
     "text": [
      "40\n"
     ]
    }
   ],
   "metadata": {}
  },
  {
   "cell_type": "markdown",
   "source": [
    "Combine"
   ],
   "metadata": {}
  },
  {
   "cell_type": "code",
   "execution_count": 32,
   "source": [
    "max_offset_secs = 2\r\n",
    "max_offset = max_offset_secs * descriptors_per_second\r\n",
    "max_combine_dist_secs = 3\r\n",
    "max_combine_distance = max_combine_dist_secs * descriptors_per_second\r\n",
    "\r\n",
    "for i in range(len(sorted_candidates)):\r\n",
    "    copy_i = sorted_candidates[i]\r\n",
    "    for j in range(i + 1, len(sorted_candidates)):\r\n",
    "        copy_j = sorted_candidates[j]\r\n",
    "\r\n",
    "        if (copy_i.distance(copy_j) <= max_combine_distance) and (copy_i.offset_diff(copy_j) <= max_offset):\r\n",
    "            copy_i.combine(copy_j)\r\n",
    "\r\n",
    "print(len(sorted_candidates))"
   ],
   "outputs": [
    {
     "output_type": "stream",
     "name": "stdout",
     "text": [
      "40\n"
     ]
    }
   ],
   "metadata": {}
  },
  {
   "cell_type": "markdown",
   "source": [
    "Overlapped"
   ],
   "metadata": {}
  },
  {
   "cell_type": "code",
   "execution_count": 33,
   "source": [
    "repeated = set()\r\n",
    "off_set_diff_limit_secs = 10\r\n",
    "off_set_diff_limit = off_set_diff_limit_secs * descriptors_per_second\r\n",
    "max_overlap_dist_secs = 3\r\n",
    "max_overlap_distance = max_overlap_dist_secs * descriptors_per_second\r\n",
    "\r\n",
    "for i in range(len(sorted_candidates)):\r\n",
    "    copy_i = sorted_candidates[i]\r\n",
    "    for j in range(i + 1, len(sorted_candidates)):\r\n",
    "        copy_j = sorted_candidates[j]\r\n",
    "\r\n",
    "        if copy_i.distance(copy_j) <= max_overlap_distance and copy_i.offset_diff(copy_j) <= off_set_diff_limit_secs:\r\n",
    "            if copy_i.sequence_duration >= copy_j.sequence_duration:\r\n",
    "                repeated.add(copy_j)\r\n",
    "            else:\r\n",
    "                repeated.add(copy_i)\r\n",
    "\r\n",
    "for copy in repeated:\r\n",
    "    sorted_candidates.remove(copy)\r\n",
    "\r\n",
    "print(len(sorted_candidates))"
   ],
   "outputs": [
    {
     "output_type": "stream",
     "name": "stdout",
     "text": [
      "1\n"
     ]
    }
   ],
   "metadata": {}
  },
  {
   "cell_type": "markdown",
   "source": [
    "Delete short copies"
   ],
   "metadata": {}
  },
  {
   "cell_type": "code",
   "execution_count": 34,
   "source": [
    "filtered_copies = []\r\n",
    "\r\n",
    "for copy in sorted_candidates:\r\n",
    "    if copy.sequence_duration > min_duration:\r\n",
    "        filtered_copies.append(copy)\r\n",
    "\r\n",
    "print(len(filtered_copies))"
   ],
   "outputs": [
    {
     "output_type": "stream",
     "name": "stdout",
     "text": [
      "1\n"
     ]
    }
   ],
   "metadata": {}
  },
  {
   "cell_type": "markdown",
   "source": [
    "Show Sequences"
   ],
   "metadata": {}
  },
  {
   "cell_type": "code",
   "execution_count": 41,
   "source": [
    "import datetime\r\n",
    "\r\n",
    "print(\"Song secs | Movie secs\")\r\n",
    "\r\n",
    "for match in filtered_copies:\r\n",
    "    print(f\"{match.song_descriptor_index} - {match.song_end_index()} | {match.movie_descriptor_index} - {match.movie_end_index()}\")\r\n",
    "    print(f\"{str(datetime.timedelta(seconds=int(match.song_descriptor_index / descriptors_per_second)))} - {str(datetime.timedelta(seconds=int(match.song_end_index() / descriptors_per_second)))} | {str(datetime.timedelta(seconds=int(match.song_descriptor_index / descriptors_per_second)))} - {str(datetime.timedelta(seconds=int(match.movie_end_index() / descriptors_per_second)))}\")"
   ],
   "outputs": [
    {
     "output_type": "stream",
     "name": "stdout",
     "text": [
      "Song secs | Movie secs\n",
      "3359 - 3421 | 67550 - 67612\n",
      "0:05:35 - 0:05:42 | 0:05:35 - 1:52:41\n"
     ]
    }
   ],
   "metadata": {}
  }
 ],
 "metadata": {
  "orig_nbformat": 4,
  "language_info": {
   "name": "python",
   "version": "3.9.5",
   "mimetype": "text/x-python",
   "codemirror_mode": {
    "name": "ipython",
    "version": 3
   },
   "pygments_lexer": "ipython3",
   "nbconvert_exporter": "python",
   "file_extension": ".py"
  },
  "kernelspec": {
   "name": "python3",
   "display_name": "Python 3.9.5 64-bit ('venv': venv)"
  },
  "interpreter": {
   "hash": "ca6a9a1abb67279cc6f0e36aadd8ff03701a01f4d9bfacb150a8ba37d2d9c784"
  }
 },
 "nbformat": 4,
 "nbformat_minor": 2
}