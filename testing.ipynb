{
 "cells": [
  {
   "cell_type": "markdown",
   "source": [
    "Transform video to audio"
   ],
   "metadata": {}
  },
  {
   "cell_type": "code",
   "execution_count": 1,
   "source": [
    "from audio_extractor import extract_audio\r\n",
    "\r\n",
    "debra_video = \"C:/Users/iggym/Documents/Movies/Baby Driver (2017) [YTS.AG]/Soundtrack/[ONTIVA.COM] Debra-144p.mp4\"\r\n",
    "debra_audio_file = \"debra_song\"\r\n",
    "\r\n",
    "baby_driver_video_file = \"C:/Users/iggym/Documents/Movies/Baby Driver (2017) [YTS.AG]/Baby.Driver.2017.720p.BluRay.x264-[YTS.AG].mp4\"\r\n",
    "baby_driver_audio_file = \"baby_driver_audio\"\r\n",
    "\r\n",
    "sample_rate = 22000\r\n",
    "\r\n",
    "extract_audio(debra_video, sample_rate, debra_audio_file)\r\n",
    "extract_audio(baby_driver_video_file, sample_rate, baby_driver_audio_file)"
   ],
   "outputs": [
    {
     "output_type": "stream",
     "name": "stdout",
     "text": [
      "C:/Users/iggym/Documents/Recuperacion de Informacion Multimedia/rim_project/debra_song.22000.wav\n",
      "STARTING: ffmpeg -i C:/Users/iggym/Documents/Movies/Baby Driver (2017) [YTS.AG]/Soundtrack/[ONTIVA.COM] Debra-144p.mp4 -ac 1 -ar 22000 C:/Users/iggym/Documents/Recuperacion de Informacion Multimedia/rim_project/debra_song.22000.wav\n",
      "Audio extracted: C:/Users/iggym/Documents/Recuperacion de Informacion Multimedia/rim_project/debra_song.22000.wav\n",
      "debra_song.22000.wav\n",
      "baby_driver_audio.22000.wav\n",
      "STARTING: ffmpeg -i C:/Users/iggym/Documents/Movies/Baby Driver (2017) [YTS.AG]/Baby.Driver.2017.720p.BluRay.x264-[YTS.AG].mp4 -ac 1 -ar 22000 baby_driver_audio.22000.wav\n"
     ]
    },
    {
     "output_type": "execute_result",
     "data": {
      "text/plain": [
       "'baby_driver_audio.22000.wav'"
      ]
     },
     "metadata": {},
     "execution_count": 1
    }
   ],
   "metadata": {}
  },
  {
   "cell_type": "markdown",
   "source": [
    "Generate Descriptors"
   ],
   "metadata": {}
  },
  {
   "cell_type": "code",
   "execution_count": 2,
   "source": [
    "from audio_descriptor_generator import create_audio_descriptors\r\n",
    "\r\n",
    "dimension = 32\r\n",
    "window = 2200\r\n",
    "hop = 2200\r\n",
    "\r\n",
    "baby_driver_audio_file = \"baby_driver_audio.22000.wav\"\r\n",
    "debra_song_audio_file = \"debra_song.22000.wav\"\r\n",
    "\r\n",
    "debra_descriptors = create_audio_descriptors(debra_song_audio_file, sample_rate, dimension, window, hop)\r\n",
    "print(debra_descriptors.shape)\r\n",
    "baby_descriptors = create_audio_descriptors(baby_driver_audio_file, sample_rate, dimension, window, hop)\r\n",
    "print(baby_descriptors.shape)\r\n",
    "\r\n",
    "baby_driver_descriptors_file = \"baby_driver_audio_descriptors.bin\"\r\n",
    "debra_song_descriptors_file = \"debra_song_descriptors.bin\"\r\n",
    "\r\n",
    "debra_descriptors.tofile(debra_song_descriptors_file, sep=\"\\n\")\r\n",
    "baby_descriptors.tofile(baby_driver_descriptors_file, sep=\"\\n\")"
   ],
   "outputs": [
    {
     "output_type": "stream",
     "name": "stdout",
     "text": [
      "1.74 seconds\n",
      "(3434, 32)\n",
      "(3434, 32)\n",
      "(67598, 32)\n"
     ]
    }
   ],
   "metadata": {}
  },
  {
   "cell_type": "markdown",
   "source": [
    "Calculate distances"
   ],
   "metadata": {}
  },
  {
   "cell_type": "code",
   "execution_count": 1,
   "source": [
    "import numpy\r\n",
    "import time\r\n",
    "from scipy.spatial import distance\r\n",
    "\r\n",
    "baby_driver_descriptors_file = \"baby_driver_audio_descriptors.bin\"\r\n",
    "# debra_song_descriptors_file = \"debra_song_descriptors.bin\"\r\n",
    "debra_song_descriptors_file = \"debra_song_descriptors.bin\"\r\n",
    "\r\n",
    "debra_song_shape = (3434, 32)\r\n",
    "\r\n",
    "song_descriptors = numpy.fromfile(debra_song_descriptors_file, sep=\"\\n\").reshape(debra_song_shape)\r\n",
    "print(song_descriptors.shape)\r\n",
    "\r\n",
    "movie_shape = (67598, 32)\r\n",
    "movie_descriptors = numpy.fromfile(baby_driver_descriptors_file, sep=\"\\n\").reshape(movie_shape)\r\n",
    "print(movie_descriptors.shape)\r\n",
    "\r\n",
    "t0 = time.time()\r\n",
    "distances = distance.cdist(song_descriptors, movie_descriptors)\r\n",
    "t1 = time.time()\r\n",
    "\r\n",
    "print(f\"Distances {distances.shape} {round(t1-t0, 2)} secs\")"
   ],
   "outputs": [
    {
     "output_type": "stream",
     "name": "stdout",
     "text": [
      "(3434, 32)\n",
      "(67598, 32)\n",
      "Distances (3434, 67598) 14.04 secs\n"
     ]
    }
   ],
   "metadata": {}
  },
  {
   "cell_type": "markdown",
   "source": [
    "Get neighbours"
   ],
   "metadata": {}
  },
  {
   "cell_type": "code",
   "execution_count": 2,
   "source": [
    "from duplicate_searcher import Neighbours\r\n",
    "\r\n",
    "number_of_neighbours = 10\r\n",
    "\r\n",
    "neighbour_file = \"neighbours.txt\"\r\n",
    "neighbours = []\r\n",
    "total = distances.shape[0]\r\n",
    "t10 = time.time()\r\n",
    "for i in range(distances.shape[0]):\r\n",
    "    print(f\"Progress: {round((i/total)*100, 2)}%\", end=\"\\r\")\r\n",
    "    song_descriptor = distances[i]\r\n",
    "    neighs = numpy.argpartition(song_descriptor, number_of_neighbours)[:number_of_neighbours]\r\n",
    "    neighbours.append(neighs)\r\n",
    "t11 = time.time()\r\n",
    "neighbours = Neighbours(numpy.array(neighbours))\r\n",
    "print(f\"Neighbours {neighbours.shape()} {round(t11-t10, 2)} secs\")"
   ],
   "outputs": [
    {
     "output_type": "stream",
     "name": "stdout",
     "text": [
      "Neighbours (3434, 10) 45.17 secs\n"
     ]
    }
   ],
   "metadata": {}
  },
  {
   "cell_type": "markdown",
   "source": [
    "Create Candidates"
   ],
   "metadata": {}
  },
  {
   "cell_type": "code",
   "execution_count": 3,
   "source": [
    "from duplicate_searcher import Candidate\r\n",
    "\r\n",
    "candidates = []\r\n",
    "song_indexes = range(distances.shape[0])\r\n",
    "total_songs = distances.shape[0]\r\n",
    "for song in song_indexes:\r\n",
    "    print(f\"Progress {round((song/total_songs)*100, 2)}%\", end=\"\\r\")\r\n",
    "    for neighbour in neighbours.search(song):\r\n",
    "        candidates.append(Candidate(song, neighbour, 22000))\r\n",
    "\r\n",
    "print(f\" Candidates {len(candidates)}\")\r\n"
   ],
   "outputs": [
    {
     "output_type": "stream",
     "name": "stdout",
     "text": [
      " Candidates 34340\n"
     ]
    }
   ],
   "metadata": {}
  },
  {
   "cell_type": "markdown",
   "source": [
    "Find sequence"
   ],
   "metadata": {}
  },
  {
   "cell_type": "code",
   "execution_count": 7,
   "source": [
    "print(type(neighbours.search(50)))\r\n",
    "print(type(neighbours.search(3434)))\r\n",
    "print(f\"{21540 in neighbours.search(50)}\")"
   ],
   "outputs": [
    {
     "output_type": "stream",
     "name": "stdout",
     "text": [
      "<class 'numpy.ndarray'>\n",
      "<class 'int'>\n",
      "True\n"
     ]
    }
   ],
   "metadata": {}
  },
  {
   "cell_type": "code",
   "execution_count": 8,
   "source": [
    "copies = []\r\n",
    "\r\n",
    "max_missing_streak = 7\r\n",
    "min_duration_seconds = 1\r\n",
    "sample_rate = 22000\r\n",
    "window = 2200\r\n",
    "min_duration = 10\r\n",
    "\r\n",
    "total_candidates = len(candidates)\r\n",
    "for i in range(len(candidates)):\r\n",
    "    print(f\"Progress {round((i/total_candidates)*100, 2)}%\", end=\"\\r\")\r\n",
    "    cand = candidates[i]\r\n",
    "    current_candidate = cand.find_next(neighbours, max_missing_streak)\r\n",
    "    if current_candidate.sequence_duration >= min_duration:\r\n",
    "        copies.append(current_candidate)\r\n",
    "    \r\n",
    "    "
   ],
   "outputs": [
    {
     "output_type": "stream",
     "name": "stdout",
     "text": []
    },
    {
     "output_type": "error",
     "ename": "ValueError",
     "evalue": "The truth value of an array with more than one element is ambiguous. Use a.any() or a.all()",
     "traceback": [
      "\u001b[1;31m---------------------------------------------------------------------------\u001b[0m",
      "\u001b[1;31mValueError\u001b[0m                                Traceback (most recent call last)",
      "\u001b[1;32m~\\AppData\\Local\\Temp/ipykernel_252/3508949428.py\u001b[0m in \u001b[0;36m<module>\u001b[1;34m\u001b[0m\n\u001b[0;32m     11\u001b[0m     \u001b[0mprint\u001b[0m\u001b[1;33m(\u001b[0m\u001b[1;34mf\"Progress {round((i/total_candidates)*100, 2)}%\"\u001b[0m\u001b[1;33m,\u001b[0m \u001b[0mend\u001b[0m\u001b[1;33m=\u001b[0m\u001b[1;34m\"\\r\"\u001b[0m\u001b[1;33m)\u001b[0m\u001b[1;33m\u001b[0m\u001b[1;33m\u001b[0m\u001b[0m\n\u001b[0;32m     12\u001b[0m     \u001b[0mcand\u001b[0m \u001b[1;33m=\u001b[0m \u001b[0mcandidates\u001b[0m\u001b[1;33m[\u001b[0m\u001b[0mi\u001b[0m\u001b[1;33m]\u001b[0m\u001b[1;33m\u001b[0m\u001b[1;33m\u001b[0m\u001b[0m\n\u001b[1;32m---> 13\u001b[1;33m     \u001b[0mcurrent_candidate\u001b[0m \u001b[1;33m=\u001b[0m \u001b[0mcand\u001b[0m\u001b[1;33m.\u001b[0m\u001b[0mfind_next\u001b[0m\u001b[1;33m(\u001b[0m\u001b[0mneighbours\u001b[0m\u001b[1;33m,\u001b[0m \u001b[0mmax_missing_streak\u001b[0m\u001b[1;33m)\u001b[0m\u001b[1;33m\u001b[0m\u001b[1;33m\u001b[0m\u001b[0m\n\u001b[0m\u001b[0;32m     14\u001b[0m     \u001b[1;32mif\u001b[0m \u001b[0mcurrent_candidate\u001b[0m\u001b[1;33m.\u001b[0m\u001b[0msequence_duration\u001b[0m \u001b[1;33m>=\u001b[0m \u001b[0mmin_duration\u001b[0m\u001b[1;33m:\u001b[0m\u001b[1;33m\u001b[0m\u001b[1;33m\u001b[0m\u001b[0m\n\u001b[0;32m     15\u001b[0m         \u001b[0mcopies\u001b[0m\u001b[1;33m.\u001b[0m\u001b[0mappend\u001b[0m\u001b[1;33m(\u001b[0m\u001b[0mcurrent_candidate\u001b[0m\u001b[1;33m)\u001b[0m\u001b[1;33m\u001b[0m\u001b[1;33m\u001b[0m\u001b[0m\n",
      "\u001b[1;32mc:\\Users\\iggym\\Documents\\Recuperacion de Informacion Multimedia\\rim_project\\duplicate_searcher.py\u001b[0m in \u001b[0;36mfind_next\u001b[1;34m(self, neighbours_list, missing_streak_limit)\u001b[0m\n\u001b[0;32m     40\u001b[0m     \u001b[1;32mdef\u001b[0m \u001b[0mfind_next\u001b[0m\u001b[1;33m(\u001b[0m\u001b[0mself\u001b[0m\u001b[1;33m,\u001b[0m \u001b[0mneighbours_list\u001b[0m\u001b[1;33m:\u001b[0m \u001b[1;34m\"Neighbours\"\u001b[0m\u001b[1;33m,\u001b[0m \u001b[0mmissing_streak_limit\u001b[0m\u001b[1;33m)\u001b[0m\u001b[1;33m:\u001b[0m\u001b[1;33m\u001b[0m\u001b[1;33m\u001b[0m\u001b[0m\n\u001b[0;32m     41\u001b[0m         \u001b[0mneighbours\u001b[0m \u001b[1;33m=\u001b[0m \u001b[0mneighbours_list\u001b[0m\u001b[1;33m.\u001b[0m\u001b[0msearch\u001b[0m\u001b[1;33m(\u001b[0m\u001b[0mself\u001b[0m\u001b[1;33m.\u001b[0m\u001b[0mnext_song_descriptor_index\u001b[0m\u001b[1;33m)\u001b[0m\u001b[1;33m\u001b[0m\u001b[1;33m\u001b[0m\u001b[0m\n\u001b[1;32m---> 42\u001b[1;33m         \u001b[1;32mif\u001b[0m \u001b[0mtype\u001b[0m\u001b[1;33m(\u001b[0m\u001b[0mneighbours\u001b[0m\u001b[1;33m)\u001b[0m \u001b[1;33m==\u001b[0m \u001b[0mint\u001b[0m\u001b[1;33m:\u001b[0m\u001b[1;33m\u001b[0m\u001b[1;33m\u001b[0m\u001b[0m\n\u001b[0m\u001b[0;32m     43\u001b[0m             \u001b[1;32mreturn\u001b[0m \u001b[0mself\u001b[0m\u001b[1;33m\u001b[0m\u001b[1;33m\u001b[0m\u001b[0m\n\u001b[0;32m     44\u001b[0m         \u001b[1;32mif\u001b[0m \u001b[0mself\u001b[0m\u001b[1;33m.\u001b[0m\u001b[0mnext_movie_descriptor_index\u001b[0m \u001b[1;32min\u001b[0m \u001b[0mneighbours\u001b[0m\u001b[1;33m:\u001b[0m\u001b[1;33m\u001b[0m\u001b[1;33m\u001b[0m\u001b[0m\n",
      "\u001b[1;31mValueError\u001b[0m: The truth value of an array with more than one element is ambiguous. Use a.any() or a.all()"
     ]
    }
   ],
   "metadata": {}
  }
 ],
 "metadata": {
  "orig_nbformat": 4,
  "language_info": {
   "name": "python",
   "version": "3.9.5",
   "mimetype": "text/x-python",
   "codemirror_mode": {
    "name": "ipython",
    "version": 3
   },
   "pygments_lexer": "ipython3",
   "nbconvert_exporter": "python",
   "file_extension": ".py"
  },
  "kernelspec": {
   "name": "python3",
   "display_name": "Python 3.9.5 64-bit ('venv': venv)"
  },
  "interpreter": {
   "hash": "ca6a9a1abb67279cc6f0e36aadd8ff03701a01f4d9bfacb150a8ba37d2d9c784"
  }
 },
 "nbformat": 4,
 "nbformat_minor": 2
}