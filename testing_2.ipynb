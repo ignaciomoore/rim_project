{
  "nbformat": 4,
  "nbformat_minor": 0,
  "metadata": {
    "orig_nbformat": 4,
    "language_info": {
      "name": "python",
      "version": "3.9.5",
      "mimetype": "text/x-python",
      "codemirror_mode": {
        "name": "ipython",
        "version": 3
      },
      "pygments_lexer": "ipython3",
      "nbconvert_exporter": "python",
      "file_extension": ".py"
    },
    "kernelspec": {
      "name": "python3",
      "display_name": "Python 3.9.5 64-bit ('venv': venv)"
    },
    "interpreter": {
      "hash": "ca6a9a1abb67279cc6f0e36aadd8ff03701a01f4d9bfacb150a8ba37d2d9c784"
    },
    "colab": {
      "name": "testing.ipynb",
      "provenance": []
    }
  },
  "cells": [
    {
      "cell_type": "markdown",
      "metadata": {
        "id": "9SEaOnvQXxUZ"
      },
      "source": [
        "Transform video to audio"
      ]
    },
    {
      "cell_type": "code",
      "metadata": {
        "id": "S9keV_WJXxUd",
        "outputId": "abce4679-6668-41dd-b358-ab207085135e"
      },
      "source": [
        "from audio_extractor import extract_audio\n",
        "\n",
        "debra_video = \"C:/Users/iggym/Documents/Movies/Baby Driver (2017) [YTS.AG]/Soundtrack/[ONTIVA.COM] Debra-144p.mp4\"\n",
        "debra_audio_file = \"debra_song\"\n",
        "\n",
        "baby_driver_video_file = \"C:/Users/iggym/Documents/Movies/Baby Driver (2017) [YTS.AG]/Baby.Driver.2017.720p.BluRay.x264-[YTS.AG].mp4\"\n",
        "baby_driver_audio_file = \"baby_driver_audio\"\n",
        "\n",
        "stw_movie = \"C:/Users/iggym/Documents/Movies/Star Wars Episode V - The Empire Strikes Back (1980) [BluRay] [720p] [YTS.AM]/Star.Wars.Episode.V.-.The.Empire.Strikes.Back.1980.720p.BluRay.x264-[YTS.AM].mp4\"\n",
        "stw_audio = \"starwars\"\n",
        "\n",
        "sample_rate = 22000\n",
        "\n",
        "# extract_audio(debra_video, sample_rate, debra_audio_file)\n",
        "# extract_audio(baby_driver_video_file, sample_rate, baby_driver_audio_file)\n",
        "extract_audio(stw_movie, sample_rate, stw_audio)"
      ],
      "execution_count": null,
      "outputs": [
        {
          "output_type": "stream",
          "text": [
            "C:/Users/iggym/Documents/Recuperacion de Informacion Multimedia/rim_project/debra_song.22000.wav\n",
            "Audio extracted: C:/Users/iggym/Documents/Recuperacion de Informacion Multimedia/rim_project/debra_song.22000.wav\n",
            "starwars.22000.wav\n",
            "STARTING: ffmpeg -i C:/Users/iggym/Documents/Movies/Star Wars Episode V - The Empire Strikes Back (1980) [BluRay] [720p] [YTS.AM]/Star.Wars.Episode.V.-.The.Empire.Strikes.Back.1980.720p.BluRay.x264-[YTS.AM].mp4 -ac 1 -ar 22000 starwars.22000.wav\n"
          ],
          "name": "stdout"
        },
        {
          "output_type": "execute_result",
          "data": {
            "text/plain": [
              "'starwars.22000.wav'"
            ]
          },
          "metadata": {
            "tags": []
          },
          "execution_count": 6
        }
      ]
    },
    {
      "cell_type": "markdown",
      "metadata": {
        "id": "5JLHWpWZXxUg"
      },
      "source": [
        "Generate Descriptors"
      ]
    },
    {
      "cell_type": "code",
      "metadata": {
        "id": "MLjP7Ey4XxUh",
        "outputId": "ba599013-6045-4022-8d3a-818a4edce8c6"
      },
      "source": [
        "from audio_descriptor_generator import create_audio_descriptors\n",
        "\n",
        "sample_rate = 22000\n",
        "descriptors_per_second = 2\n",
        "dimension = 32\n",
        "window = int(sample_rate / descriptors_per_second)\n",
        "hop = window\n",
        "\n",
        "baby_driver_audio_file = \"baby_driver_audio.22000.wav\"\n",
        "debra_song_audio_file = \"debra_song.22000.wav\"\n",
        "stw_audio_file = \"starwars.22000.wav\"\n",
        "\"\"\"\n",
        "debra_descriptors = create_audio_descriptors(debra_song_audio_file, sample_rate, dimension, window, hop)\n",
        "print(debra_descriptors.shape)\n",
        "baby_descriptors = create_audio_descriptors(baby_driver_audio_file, sample_rate, dimension, window, hop)\n",
        "print(baby_descriptors.shape)\n",
        "\"\"\"\n",
        "stw_descriptors = create_audio_descriptors(stw_audio_file, sample_rate, dimension, window, hop)\n",
        "print(stw_descriptors.shape)\n",
        "\"\"\"\n",
        "baby_driver_descriptors_file = f\"baby_driver_audio_descriptors_{descriptors_per_second}.bin\"\n",
        "debra_song_descriptors_file = f\"debra_song_descriptors_{descriptors_per_second}.bin\"\n",
        "\"\"\"\n",
        "stw_descriptors_file = f\"stw_descriptors_{descriptors_per_second}.bin\"\n",
        "\"\"\"\n",
        "debra_descriptors.tofile(debra_song_descriptors_file, sep=\"\\n\")\n",
        "baby_descriptors.tofile(baby_driver_descriptors_file, sep=\"\\n\")\n",
        "\"\"\"\n",
        "stw_descriptors.tofile(stw_descriptors_file, sep=\"\\n\")\n",
        "\"\"\"\n",
        "song_shape = debra_descriptors.shape\n",
        "movie_shape = baby_descriptors.shape\n",
        "\"\"\"\n",
        "stw_shape = stw_descriptors.shape"
      ],
      "execution_count": null,
      "outputs": [
        {
          "output_type": "stream",
          "text": [
            "1.12 seconds\n",
            "(3434, 32)\n",
            "(15284, 32)\n"
          ],
          "name": "stdout"
        }
      ]
    },
    {
      "cell_type": "markdown",
      "metadata": {
        "id": "BXgU2A_7XxUi"
      },
      "source": [
        "Calculate distances"
      ]
    },
    {
      "cell_type": "code",
      "metadata": {
        "colab": {
          "base_uri": "https://localhost:8080/"
        },
        "id": "AT3h63QBXxUj",
        "outputId": "7337ffe4-0a48-49d4-98fa-f4ce3da4430e"
      },
      "source": [
        "import numpy\n",
        "import time\n",
        "from scipy.spatial import distance\n",
        "\n",
        "descriptors_per_second = 2\n",
        "\"\"\"\n",
        "song_shape = (687, 32)\n",
        "\"\"\"\n",
        "movie_shape = (13520, 32)\n",
        "stw_shape = (15284, 32)\n",
        "\n",
        "# baby_driver_descriptors_file = f\"baby_driver_audio_descriptors_{descriptors_per_second}.bin\"\n",
        "# debra_song_descriptors_file = \"debra_song_descriptors.bin\"\n",
        "# debra_song_descriptors_file = f\"debra_song_descriptors_{descriptors_per_second}.bin\"\n",
        "stw_descriptors_file = f\"drive/MyDrive/RIM/proj/stw_descriptors_{descriptors_per_second}.bin\"\n",
        "\n",
        "debra_song_shape = (687, 32)\n",
        "\n",
        "# song_descriptors = numpy.fromfile(debra_song_descriptors_file, sep=\"\\n\").reshape(debra_song_shape)\n",
        "# print(f\"Debra {song_descriptors.shape}\")\n",
        "# print(song_descriptors[10:-10].shape)\n",
        "\n",
        "# movie_shape = movie_shape\n",
        "stw_descriptors = numpy.fromfile(stw_descriptors_file, sep=\"\\n\").reshape(stw_shape)\n",
        "print(f\"Starwars {stw_descriptors.shape}\")\n",
        "\n",
        "# movie_descriptors = numpy.fromfile(baby_driver_descriptors_file, sep=\"\\n\").reshape(movie_shape)\n",
        "# print(f\"Baby {movie_descriptors.shape}\")\n",
        "\n",
        "\n",
        "\n",
        "t0 = time.time()\n",
        "distances = distance.cdist(stw_descriptors, stw_descriptors)\n",
        "# distances = distance.cdist(movie_descriptors, movie_descriptors)\n",
        "t1 = time.time()\n",
        "\n",
        "print(f\"Distances {distances.shape} {round(t1-t0, 2)} secs\")"
      ],
      "execution_count": 3,
      "outputs": [
        {
          "output_type": "stream",
          "text": [
            "Starwars (15284, 32)\n",
            "Distances (15284, 15284) 5.75 secs\n"
          ],
          "name": "stdout"
        }
      ]
    },
    {
      "cell_type": "code",
      "metadata": {
        "colab": {
          "base_uri": "https://localhost:8080/"
        },
        "id": "Wcx1a5NmX5EC",
        "outputId": "a92a4b4a-f1a6-4ce5-9cfa-175bf2c875c1"
      },
      "source": [
        "from google.colab import drive\n",
        "drive.mount('/content/drive')"
      ],
      "execution_count": 1,
      "outputs": [
        {
          "output_type": "stream",
          "text": [
            "Mounted at /content/drive\n"
          ],
          "name": "stdout"
        }
      ]
    },
    {
      "cell_type": "code",
      "metadata": {
        "id": "4lyI8mmwXxUk",
        "outputId": "9b01e853-2996-454c-ba57-23f16003f349"
      },
      "source": [
        "import numpy\n",
        "from scipy.spatial import distance\n",
        "\n",
        "descriptors_per_second = 2\n",
        "movie_shape = (13520, 32)\n",
        "baby_driver_descriptors_file = f\"baby_driver_audio_descriptors_{descriptors_per_second}.bin\"\n",
        "movie_descriptors = numpy.fromfile(stw_descriptors_file, sep=\"\\n\").reshape(stw_shape)\n",
        "print(movie_descriptors.shape)\n",
        "\n",
        "\n",
        "distances = distance.cdist(movie_descriptors, movie_descriptors)\n",
        "\"\"\"\n",
        "i0 = movie_descriptors[0]\n",
        "i = movie_descriptors[round(13520/2)]\n",
        "i13519 = movie_descriptors[13519]\n",
        "\n",
        "print(numpy.linalg.norm(i13519 - i0))\n",
        "print(numpy.linalg.norm(i - i0))\n",
        "print(numpy.linalg.norm(i13519 - i))\n",
        "\n",
        "\"\"\"\n",
        "\n",
        "\"\"\"\n",
        "min_offset_seconds = 5\n",
        "min_offset_descriptors = min_offset_seconds * descriptors_per_second\n",
        "\n",
        "distances_2 = distance.cdist(movie_descriptors, movie_descriptors)\n",
        "distances_2 = numpy.tril(distances_2, -min_offset_descriptors)\n",
        "print(distances_2.shape)\n",
        "minimum = 1000000\n",
        "indexes = (0, 0)\n",
        "min_dist = distances_2[distances_2 > 10].min()\n",
        "\"\"\"\n"
      ],
      "execution_count": null,
      "outputs": [
        {
          "output_type": "stream",
          "text": [
            "(15284, 32)\n"
          ],
          "name": "stdout"
        },
        {
          "output_type": "execute_result",
          "data": {
            "text/plain": [
              "'\\nmin_offset_seconds = 5\\nmin_offset_descriptors = min_offset_seconds * descriptors_per_second\\n\\ndistances_2 = distance.cdist(movie_descriptors, movie_descriptors)\\ndistances_2 = numpy.tril(distances_2, -min_offset_descriptors)\\nprint(distances_2.shape)\\nminimum = 1000000\\nindexes = (0, 0)\\nmin_dist = distances_2[distances_2 > 10].min()\\n'"
            ]
          },
          "metadata": {
            "tags": []
          },
          "execution_count": 12
        }
      ]
    },
    {
      "cell_type": "code",
      "metadata": {
        "id": "GYVWuM-tXxUl",
        "outputId": "c12d58b0-d385-4abd-8e66-436abe8211d2"
      },
      "source": [
        "import datetime\n",
        "\n",
        "location = numpy.where(distances_2 == min_dist)\n",
        "listOfCordinates = list(zip(location[0], location[1]))\n",
        "print(min_dist)\n",
        "for cord in listOfCordinates:\n",
        "    print(f\"{datetime.timedelta(seconds=round(cord[0] / descriptors_per_second))} | {datetime.timedelta(seconds=round(cord[1] / descriptors_per_second))}\")"
      ],
      "execution_count": null,
      "outputs": [
        {
          "output_type": "stream",
          "text": [
            "10.00369173688756\n",
            "1:32:40 | 1:31:59\n"
          ],
          "name": "stdout"
        }
      ]
    },
    {
      "cell_type": "markdown",
      "metadata": {
        "id": "mM_z9AkxXxUm"
      },
      "source": [
        "Get neighbours"
      ]
    },
    {
      "cell_type": "code",
      "metadata": {
        "colab": {
          "base_uri": "https://localhost:8080/"
        },
        "id": "JEAkBn69XxUm",
        "outputId": "c8b3e532-89d1-4d08-b35c-d256713cb2fc"
      },
      "source": [
        "from drive.MyDrive.RIM.proj.duplicate_searcher import Neighbours\n",
        "import time\n",
        "\n",
        "number_of_neighbours = 10\n",
        "\n",
        "neighbours = []\n",
        "total = distances.shape[0]\n",
        "t10 = time.time()\n",
        "for i in range(distances.shape[0]):\n",
        "    print(f\"Progress: {round((i/total)*100, 2)}%\", end=\"\\r\")\n",
        "    song_descriptor = distances[i]\n",
        "    neighs = numpy.argpartition(song_descriptor, number_of_neighbours)[:number_of_neighbours]\n",
        "    neighbours.append(neighs)\n",
        "t11 = time.time()\n",
        "neighbours = Neighbours(numpy.array(neighbours))\n",
        "print(f\"Neighbours {neighbours.shape()} {round(t11-t10, 2)} secs\")"
      ],
      "execution_count": 4,
      "outputs": [
        {
          "output_type": "stream",
          "text": [
            "Neighbours (15284, 10) 9.87 secs\n"
          ],
          "name": "stdout"
        }
      ]
    },
    {
      "cell_type": "markdown",
      "metadata": {
        "id": "Dc1PB97hXxUn"
      },
      "source": [
        "Get Candidates"
      ]
    },
    {
      "cell_type": "code",
      "metadata": {
        "id": "arrkPAZeXxUo"
      },
      "source": [
        "number_of_candidates = 100\n",
        "min_offset_seconds = 10\n",
        "min_offset_descriptors = min_offset_seconds * descriptors_per_second\n",
        "\n",
        "distances_2 = numpy.tril(distances, -min_offset_descriptors)\n",
        "\n",
        "min_candidates = {}\n",
        "\n",
        "for i in range(len(distances_2.shape[0])):\n",
        "    row = distances_2[i]\n",
        "    for j in range(len(distances_2.shape[1])):\n",
        "        value = distances_2[j]\n",
        "        \n",
        "        if value == 0:\n",
        "            continue\n",
        "        elif len(min_candidates) < number_of_candidates:\n",
        "            min_candidates(value) = (i, j)\n",
        "        else:\n",
        "            # TODO\n"
      ],
      "execution_count": null,
      "outputs": []
    },
    {
      "cell_type": "markdown",
      "metadata": {
        "id": "XYBawF1IXxUp"
      },
      "source": [
        "Create Candidates"
      ]
    },
    {
      "cell_type": "code",
      "metadata": {
        "colab": {
          "base_uri": "https://localhost:8080/"
        },
        "id": "Y-9egAEhXxUp",
        "outputId": "96e7cbf1-b132-4095-af9a-5b4392675194"
      },
      "source": [
        "from drive.MyDrive.RIM.proj.duplicate_searcher import Candidate\n",
        "\n",
        "candidates = []\n",
        "song_indexes = range(distances.shape[0])\n",
        "total_songs = distances.shape[0]\n",
        "for song in song_indexes:\n",
        "    print(f\"Progress {round((song/total_songs)*100, 2)}%\", end=\"\\r\")\n",
        "    for neighbour in neighbours.search(song):\n",
        "        candidates.append(Candidate(song, neighbour, descriptors_per_second))\n",
        "\n",
        "print(f\" Candidates {len(candidates)}\")\n"
      ],
      "execution_count": 5,
      "outputs": [
        {
          "output_type": "stream",
          "text": [
            " Candidates 152840\n"
          ],
          "name": "stdout"
        }
      ]
    },
    {
      "cell_type": "markdown",
      "metadata": {
        "id": "ejfamKKjXxUq"
      },
      "source": [
        "Find sequence"
      ]
    },
    {
      "cell_type": "code",
      "metadata": {
        "colab": {
          "base_uri": "https://localhost:8080/"
        },
        "id": "75Qextm_XxUq",
        "outputId": "95a1dd42-0f7b-496a-d60d-02da83bae6cf"
      },
      "source": [
        "copies = []\n",
        "\n",
        "max_missing_streak_secs = 1\n",
        "max_missing_streak = max_missing_streak_secs * descriptors_per_second\n",
        "min_duration_seconds = 3\n",
        "min_duration = min_duration_seconds * descriptors_per_second\n",
        "\n",
        "total_candidates = len(candidates)\n",
        "for i in range(len(candidates)):\n",
        "    print(f\"Progress {round((i/total_candidates)*100, 2)}%\", end=\"\\r\")\n",
        "    cand = candidates[i]\n",
        "    current_candidate = cand.find_next(neighbours, max_missing_streak, min_duration)\n",
        "    if current_candidate.sequence_duration >= min_duration and current_candidate.score() >= 1:\n",
        "        copies.append(current_candidate)\n",
        "\n",
        "print(len(copies))   \n",
        "    "
      ],
      "execution_count": 6,
      "outputs": [
        {
          "output_type": "stream",
          "text": [
            "16968\n"
          ],
          "name": "stdout"
        }
      ]
    },
    {
      "cell_type": "markdown",
      "metadata": {
        "id": "6CmHFa9JXxUq"
      },
      "source": [
        "Contain"
      ]
    },
    {
      "cell_type": "code",
      "metadata": {
        "colab": {
          "base_uri": "https://localhost:8080/"
        },
        "id": "ZY99dLtTXxUr",
        "outputId": "9e04c1ea-800d-4e40-ecdb-bc10e5e2a086"
      },
      "source": [
        "filtered = []\n",
        "\n",
        "for i in range(len(copies)):\n",
        "    print(f\"Progress {round((i/len(copies))*100, 2)}%\", end=\"\\r\")\n",
        "    cani = copies[i]\n",
        "    add = True\n",
        "    for j in range(len(copies)):\n",
        "        canj = copies[j]\n",
        "        \n",
        "        if i == j:\n",
        "            continue\n",
        "        \n",
        "        elif cani.contains(canj):\n",
        "            add = False\n",
        "            break\n",
        "    \n",
        "    if add:\n",
        "        filtered.append(cani)\n",
        "\n",
        "print(len(filtered))\n"
      ],
      "execution_count": 7,
      "outputs": [
        {
          "output_type": "stream",
          "text": [
            "16968\n"
          ],
          "name": "stdout"
        }
      ]
    },
    {
      "cell_type": "markdown",
      "metadata": {
        "id": "rrrBov1wXxUr"
      },
      "source": [
        "Sort"
      ]
    },
    {
      "cell_type": "code",
      "metadata": {
        "colab": {
          "base_uri": "https://localhost:8080/"
        },
        "id": "dU-fS4-0XxUr",
        "outputId": "e73fd9e1-c4c6-4d4d-b942-143a70df21d4"
      },
      "source": [
        "# sorted_candidates = filtered\n",
        "sorted_candidates = sorted(filtered, key=lambda c: c.song_descriptor_index)\n",
        "\n",
        "print(len(sorted_candidates))"
      ],
      "execution_count": 8,
      "outputs": [
        {
          "output_type": "stream",
          "text": [
            "16968\n"
          ],
          "name": "stdout"
        }
      ]
    },
    {
      "cell_type": "markdown",
      "metadata": {
        "id": "8xRaK6UYXxUs"
      },
      "source": [
        "Combine"
      ]
    },
    {
      "cell_type": "code",
      "metadata": {
        "colab": {
          "base_uri": "https://localhost:8080/"
        },
        "id": "sVeC--i2XxUt",
        "outputId": "a51c0a2c-6202-4fd3-96ed-4f12f719469a"
      },
      "source": [
        "max_offset_secs = 2\n",
        "max_offset = max_offset_secs * descriptors_per_second\n",
        "max_combine_dist_secs = 3\n",
        "max_combine_distance = max_combine_dist_secs * descriptors_per_second\n",
        "\n",
        "for i in range(len(sorted_candidates)):\n",
        "    print(f\"Progress {round((i/len(sorted_candidates))*100, 2)}%\", end=\"\\r\")\n",
        "    copy_i = sorted_candidates[i]\n",
        "    for j in range(i + 1, len(sorted_candidates)):\n",
        "        copy_j = sorted_candidates[j]\n",
        "\n",
        "        if (copy_i.distance(copy_j) <= max_combine_distance) and (copy_i.offset_diff(copy_j) <= max_offset):\n",
        "            copy_i.combine(copy_j)\n",
        "\n",
        "print(len(sorted_candidates))"
      ],
      "execution_count": 9,
      "outputs": [
        {
          "output_type": "stream",
          "text": [
            "16968\n"
          ],
          "name": "stdout"
        }
      ]
    },
    {
      "cell_type": "markdown",
      "metadata": {
        "id": "tP_RAYjdXxUt"
      },
      "source": [
        "Overlapped"
      ]
    },
    {
      "cell_type": "code",
      "metadata": {
        "colab": {
          "base_uri": "https://localhost:8080/"
        },
        "id": "UAvIzFJKXxUu",
        "outputId": "686c985b-d871-4678-d99e-31c57044593c"
      },
      "source": [
        "repeated = set()\n",
        "off_set_diff_limit_secs = 10\n",
        "off_set_diff_limit = off_set_diff_limit_secs * descriptors_per_second\n",
        "max_overlap_dist_secs = 3\n",
        "max_overlap_distance = max_overlap_dist_secs * descriptors_per_second\n",
        "\n",
        "for i in range(len(sorted_candidates)):\n",
        "    copy_i = sorted_candidates[i]\n",
        "    for j in range(i + 1, len(sorted_candidates)):\n",
        "        copy_j = sorted_candidates[j]\n",
        "\n",
        "        if copy_i.distance(copy_j) <= max_overlap_distance and copy_i.offset_diff(copy_j) <= off_set_diff_limit_secs:\n",
        "            if copy_i.sequence_duration >= copy_j.sequence_duration:\n",
        "                repeated.add(copy_j)\n",
        "            else:\n",
        "                repeated.add(copy_i)\n",
        "\n",
        "for copy in repeated:\n",
        "    sorted_candidates.remove(copy)\n",
        "\n",
        "print(len(sorted_candidates))"
      ],
      "execution_count": 10,
      "outputs": [
        {
          "output_type": "stream",
          "text": [
            "15\n"
          ],
          "name": "stdout"
        }
      ]
    },
    {
      "cell_type": "markdown",
      "metadata": {
        "id": "-Uys7cpSXxUv"
      },
      "source": [
        "Delete short copies"
      ]
    },
    {
      "cell_type": "code",
      "metadata": {
        "colab": {
          "base_uri": "https://localhost:8080/"
        },
        "id": "5ZbQoIk6XxUv",
        "outputId": "a0d3c017-2fd3-4b6a-e974-84dfa27ec50c"
      },
      "source": [
        "filtered_copies = []\n",
        "\n",
        "for copy in sorted_candidates:\n",
        "    if copy.sequence_duration > min_duration:\n",
        "        filtered_copies.append(copy)\n",
        "\n",
        "print(len(filtered_copies))"
      ],
      "execution_count": 11,
      "outputs": [
        {
          "output_type": "stream",
          "text": [
            "3\n"
          ],
          "name": "stdout"
        }
      ]
    },
    {
      "cell_type": "markdown",
      "metadata": {
        "id": "O2bjsIMnXxUv"
      },
      "source": [
        "Show Sequences"
      ]
    },
    {
      "cell_type": "code",
      "metadata": {
        "colab": {
          "base_uri": "https://localhost:8080/"
        },
        "id": "E1o8HlDhXxUw",
        "outputId": "157dc51e-1b95-40ae-e07f-00de67a3e854"
      },
      "source": [
        "import datetime\n",
        "\n",
        "print(\"Song secs | Movie secs\")\n",
        "\n",
        "# Debra starts in aprox. 0:41:30\n",
        "add_cut = 0\n",
        "\n",
        "# It worked, the second and third sequence work, 2:01:12 - 2:01:16 | 2:01:48 - 2:01:52 star wars\n",
        "\n",
        "for match in filtered_copies:\n",
        "    # print(f\"{match.song_descriptor_index} - {match.song_end_index()} | {match.movie_descriptor_index} - {match.movie_end_index()}\")\n",
        "    print(f\"{str(datetime.timedelta(seconds=int((match.song_descriptor_index + add_cut) / descriptors_per_second)))} - {str(datetime.timedelta(seconds=int((match.song_end_index() + add_cut) / descriptors_per_second)))} | {str(datetime.timedelta(seconds=int((match.movie_descriptor_index + add_cut) / descriptors_per_second)))} - {str(datetime.timedelta(seconds=int((match.movie_end_index() + add_cut) / descriptors_per_second)))}\")"
      ],
      "execution_count": 12,
      "outputs": [
        {
          "output_type": "stream",
          "text": [
            "Song secs | Movie secs\n",
            "0:00:00 - 2:07:21 | 0:00:00 - 2:07:21\n",
            "2:01:12 - 2:01:16 | 2:01:48 - 2:01:52\n",
            "2:02:22 - 2:02:27 | 2:02:12 - 2:02:16\n"
          ],
          "name": "stdout"
        }
      ]
    }
  ]
}