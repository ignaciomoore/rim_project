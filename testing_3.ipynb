{
  "nbformat": 4,
  "nbformat_minor": 2,
  "metadata": {
    "orig_nbformat": 4,
    "language_info": {
      "name": "python",
      "version": "3.9.5",
      "mimetype": "text/x-python",
      "codemirror_mode": {
        "name": "ipython",
        "version": 3
      },
      "pygments_lexer": "ipython3",
      "nbconvert_exporter": "python",
      "file_extension": ".py"
    },
    "kernelspec": {
      "name": "python3",
      "display_name": "Python 3.9.5 64-bit ('venv': venv)"
    },
    "interpreter": {
      "hash": "ca6a9a1abb67279cc6f0e36aadd8ff03701a01f4d9bfacb150a8ba37d2d9c784"
    },
    "colab": {
      "name": "testing.ipynb",
      "provenance": []
    }
  },
  "cells": [
    {
      "cell_type": "markdown",
      "source": [
        "Transform video to audio"
      ],
      "metadata": {
        "id": "9SEaOnvQXxUZ"
      }
    },
    {
      "cell_type": "code",
      "execution_count": null,
      "source": [
        "from audio_extractor import extract_audio\r\n",
        "\r\n",
        "debra_video = \"C:/Users/iggym/Documents/Movies/Baby Driver (2017) [YTS.AG]/Soundtrack/[ONTIVA.COM] Debra-144p.mp4\"\r\n",
        "debra_audio_file = \"debra_song\"\r\n",
        "\r\n",
        "baby_driver_video_file = \"C:/Users/iggym/Documents/Movies/Baby Driver (2017) [YTS.AG]/Baby.Driver.2017.720p.BluRay.x264-[YTS.AG].mp4\"\r\n",
        "baby_driver_audio_file = \"baby_driver_audio\"\r\n",
        "\r\n",
        "stw_movie = \"C:/Users/iggym/Documents/Movies/Star Wars Episode V - The Empire Strikes Back (1980) [BluRay] [720p] [YTS.AM]/Star.Wars.Episode.V.-.The.Empire.Strikes.Back.1980.720p.BluRay.x264-[YTS.AM].mp4\"\r\n",
        "stw_audio = \"starwars\"\r\n",
        "\r\n",
        "sample_rate = 22000\r\n",
        "\r\n",
        "# extract_audio(debra_video, sample_rate, debra_audio_file)\r\n",
        "# extract_audio(baby_driver_video_file, sample_rate, baby_driver_audio_file)\r\n",
        "extract_audio(stw_movie, sample_rate, stw_audio)"
      ],
      "outputs": [
        {
          "output_type": "stream",
          "name": "stdout",
          "text": [
            "C:/Users/iggym/Documents/Recuperacion de Informacion Multimedia/rim_project/debra_song.22000.wav\n",
            "Audio extracted: C:/Users/iggym/Documents/Recuperacion de Informacion Multimedia/rim_project/debra_song.22000.wav\n",
            "starwars.22000.wav\n",
            "STARTING: ffmpeg -i C:/Users/iggym/Documents/Movies/Star Wars Episode V - The Empire Strikes Back (1980) [BluRay] [720p] [YTS.AM]/Star.Wars.Episode.V.-.The.Empire.Strikes.Back.1980.720p.BluRay.x264-[YTS.AM].mp4 -ac 1 -ar 22000 starwars.22000.wav\n"
          ]
        },
        {
          "output_type": "execute_result",
          "data": {
            "text/plain": [
              "'starwars.22000.wav'"
            ]
          },
          "metadata": {
            "tags": []
          },
          "execution_count": 6
        }
      ],
      "metadata": {
        "id": "S9keV_WJXxUd",
        "outputId": "abce4679-6668-41dd-b358-ab207085135e"
      }
    },
    {
      "cell_type": "markdown",
      "source": [
        "Generate Descriptors"
      ],
      "metadata": {
        "id": "5JLHWpWZXxUg"
      }
    },
    {
      "cell_type": "code",
      "execution_count": null,
      "source": [
        "from audio_descriptor_generator import create_audio_descriptors\r\n",
        "\r\n",
        "sample_rate = 22000\r\n",
        "descriptors_per_second = 2\r\n",
        "dimension = 32\r\n",
        "window = int(sample_rate / descriptors_per_second)\r\n",
        "hop = window\r\n",
        "\r\n",
        "baby_driver_audio_file = \"baby_driver_audio.22000.wav\"\r\n",
        "debra_song_audio_file = \"debra_song.22000.wav\"\r\n",
        "stw_audio_file = \"starwars.22000.wav\"\r\n",
        "\"\"\"\r\n",
        "debra_descriptors = create_audio_descriptors(debra_song_audio_file, sample_rate, dimension, window, hop)\r\n",
        "print(debra_descriptors.shape)\r\n",
        "baby_descriptors = create_audio_descriptors(baby_driver_audio_file, sample_rate, dimension, window, hop)\r\n",
        "print(baby_descriptors.shape)\r\n",
        "\"\"\"\r\n",
        "stw_descriptors = create_audio_descriptors(stw_audio_file, sample_rate, dimension, window, hop)\r\n",
        "print(stw_descriptors.shape)\r\n",
        "\"\"\"\r\n",
        "baby_driver_descriptors_file = f\"baby_driver_audio_descriptors_{descriptors_per_second}.bin\"\r\n",
        "debra_song_descriptors_file = f\"debra_song_descriptors_{descriptors_per_second}.bin\"\r\n",
        "\"\"\"\r\n",
        "stw_descriptors_file = f\"stw_descriptors_{descriptors_per_second}.bin\"\r\n",
        "\"\"\"\r\n",
        "debra_descriptors.tofile(debra_song_descriptors_file, sep=\"\\n\")\r\n",
        "baby_descriptors.tofile(baby_driver_descriptors_file, sep=\"\\n\")\r\n",
        "\"\"\"\r\n",
        "stw_descriptors.tofile(stw_descriptors_file, sep=\"\\n\")\r\n",
        "\"\"\"\r\n",
        "song_shape = debra_descriptors.shape\r\n",
        "movie_shape = baby_descriptors.shape\r\n",
        "\"\"\"\r\n",
        "stw_shape = stw_descriptors.shape"
      ],
      "outputs": [
        {
          "output_type": "stream",
          "name": "stdout",
          "text": [
            "1.12 seconds\n",
            "(3434, 32)\n",
            "(15284, 32)\n"
          ]
        }
      ],
      "metadata": {
        "id": "MLjP7Ey4XxUh",
        "outputId": "ba599013-6045-4022-8d3a-818a4edce8c6"
      }
    },
    {
      "cell_type": "markdown",
      "source": [
        "Calculate distances"
      ],
      "metadata": {
        "id": "BXgU2A_7XxUi"
      }
    },
    {
      "cell_type": "code",
      "execution_count": 14,
      "source": [
        "import numpy\r\n",
        "import time\r\n",
        "from scipy.spatial import distance\r\n",
        "\r\n",
        "descriptors_per_second = 2\r\n",
        "\"\"\"\r\n",
        "song_shape = (687, 32)\r\n",
        "\"\"\"\r\n",
        "movie_shape = (13520, 32)\r\n",
        "stw_shape = (15284, 32)\r\n",
        "\r\n",
        "# baby_driver_descriptors_file = f\"baby_driver_audio_descriptors_{descriptors_per_second}.bin\"\r\n",
        "# debra_song_descriptors_file = \"debra_song_descriptors.bin\"\r\n",
        "# debra_song_descriptors_file = f\"debra_song_descriptors_{descriptors_per_second}.bin\"\r\n",
        "\r\n",
        "# stw_descriptors_file = f\"drive/MyDrive/RIM/proj/stw_descriptors_{descriptors_per_second}.bin\"\r\n",
        "stw_descriptors_file = f\"stw_descriptors_{descriptors_per_second}.bin\"\r\n",
        "\r\n",
        "debra_song_shape = (687, 32)\r\n",
        "\r\n",
        "# song_descriptors = numpy.fromfile(debra_song_descriptors_file, sep=\"\\n\").reshape(debra_song_shape)\r\n",
        "# print(f\"Debra {song_descriptors.shape}\")\r\n",
        "# print(song_descriptors[10:-10].shape)\r\n",
        "\r\n",
        "# movie_shape = movie_shape\r\n",
        "stw_descriptors = numpy.fromfile(stw_descriptors_file, sep=\"\\n\").reshape(stw_shape)\r\n",
        "print(f\"Starwars {stw_descriptors.shape}\")\r\n",
        "\r\n",
        "# movie_descriptors = numpy.fromfile(baby_driver_descriptors_file, sep=\"\\n\").reshape(movie_shape)\r\n",
        "# print(f\"Baby {movie_descriptors.shape}\")\r\n",
        "\r\n",
        "\r\n",
        "\r\n",
        "t0 = time.time()\r\n",
        "distances = distance.cdist(stw_descriptors, stw_descriptors)\r\n",
        "# distances = distance.cdist(movie_descriptors, movie_descriptors)\r\n",
        "t1 = time.time()\r\n",
        "\r\n",
        "print(f\"Distances {distances.shape} {round(t1-t0, 2)} secs\")"
      ],
      "outputs": [
        {
          "output_type": "stream",
          "name": "stdout",
          "text": [
            "Starwars (15284, 32)\n",
            "Distances (15284, 15284) 18.43 secs\n"
          ]
        }
      ],
      "metadata": {
        "colab": {
          "base_uri": "https://localhost:8080/"
        },
        "id": "AT3h63QBXxUj",
        "outputId": "56f7baac-c36e-4a9c-aeaa-c29b190429c8"
      }
    },
    {
      "cell_type": "markdown",
      "source": [
        "Define neighbour function"
      ],
      "metadata": {
        "id": "2z4-3m0UrYiC"
      }
    },
    {
      "cell_type": "code",
      "execution_count": 15,
      "source": [
        "def add_offset_to_index(offset_threshold, index, offset):\r\n",
        "    if index >= offset_threshold:\r\n",
        "        return index + (offset*2)\r\n",
        "    return index\r\n",
        "\r\n",
        "def get_closest_neighbours(song_index, num_of_neighs, distance_matrix, min_offset):\r\n",
        "    offset_range = ((song_index - min_offset) % distance_matrix.shape[1], (song_index + min_offset) % distance_matrix.shape[1])\r\n",
        "    switch = True\r\n",
        "    \r\n",
        "    if offset_range[0] < offset_range[1]:\r\n",
        "        start_neighs = distance_matrix[song_index][:offset_range[0]]\r\n",
        "        end_neighs = distance_matrix[song_index][offset_range[1]:]\r\n",
        "        new_neighs = numpy.append(start_neighs, end_neighs)\r\n",
        "    else:\r\n",
        "        new_neighs = distance_matrix[song_index][offset_range[1]:offset_range[0]]\r\n",
        "\r\n",
        "    results = numpy.argpartition(new_neighs, num_of_neighs)[:num_of_neighs]\r\n",
        "    new_results = []\r\n",
        "    for i in range(len(results)):\r\n",
        "        if switch:\r\n",
        "            offset_threshold = offset_range[1]\r\n",
        "            new_results.append(add_offset_to_index(offset_threshold, results[i], min_offset_descriptors))\r\n",
        "        else:\r\n",
        "            offset_threshold = offset_range[0]\r\n",
        "            new_results.append(add_offset_to_index(offset_threshold, results[i], min_offset_descriptors))\r\n",
        "\r\n",
        "    return numpy.array(new_results)"
      ],
      "outputs": [],
      "metadata": {
        "id": "hKIP1lS6reBp"
      }
    },
    {
      "cell_type": "markdown",
      "source": [
        "Get neighbours"
      ],
      "metadata": {
        "id": "mM_z9AkxXxUm"
      }
    },
    {
      "cell_type": "code",
      "execution_count": 16,
      "source": [
        "from duplicate_searcher import Neighbours\r\n",
        "import time\r\n",
        "\r\n",
        "number_of_neighbours = 10\r\n",
        "min_offset_seconds = 60\r\n",
        "min_offset_descriptors = min_offset_seconds * descriptors_per_second\r\n",
        "\r\n",
        "neighbours = []\r\n",
        "total = distances.shape[0]\r\n",
        "t10 = time.time()\r\n",
        "for i in range(distances.shape[0]):\r\n",
        "    print(f\"Progress: {round((i/total)*100, 2)}%\", end=\"\\r\")\r\n",
        "    \"\"\"\r\n",
        "    song_descriptor = distances[i]\r\n",
        "    neighs = numpy.argpartition(song_descriptor, number_of_neighbours)[:number_of_neighbours]\r\n",
        "    \"\"\"\r\n",
        "    neighs = get_closest_neighbours(i, number_of_neighbours, distances, min_offset_descriptors)\r\n",
        "    neighbours.append(neighs)\r\n",
        "t11 = time.time()\r\n",
        "neighbours = Neighbours(numpy.array(neighbours))\r\n",
        "print(f\"Neighbours {neighbours.shape()} {round(t11-t10, 2)} secs\")"
      ],
      "outputs": [
        {
          "output_type": "stream",
          "name": "stdout",
          "text": [
            "Neighbours (15284, 10) 8.5 secs\n"
          ]
        }
      ],
      "metadata": {
        "colab": {
          "base_uri": "https://localhost:8080/"
        },
        "id": "JEAkBn69XxUm",
        "outputId": "f8325dd1-287f-445c-a074-4a0f1b534364"
      }
    },
    {
      "cell_type": "markdown",
      "source": [
        "Create Candidates"
      ],
      "metadata": {
        "id": "XYBawF1IXxUp"
      }
    },
    {
      "cell_type": "code",
      "execution_count": 17,
      "source": [
        "from duplicate_searcher import Candidate\r\n",
        "\r\n",
        "candidates = []\r\n",
        "song_indexes = range(distances.shape[0])\r\n",
        "total_songs = distances.shape[0]\r\n",
        "for song in song_indexes:\r\n",
        "    print(f\"Progress {round((song/total_songs)*100, 2)}%\", end=\"\\r\")\r\n",
        "    for neighbour in neighbours.search(song):\r\n",
        "        candidates.append(Candidate(song, neighbour, descriptors_per_second))\r\n",
        "\r\n",
        "print(f\" Candidates {len(candidates)}\")\r\n"
      ],
      "outputs": [
        {
          "output_type": "stream",
          "name": "stdout",
          "text": [
            " Candidates 152840\n"
          ]
        }
      ],
      "metadata": {
        "colab": {
          "base_uri": "https://localhost:8080/"
        },
        "id": "Y-9egAEhXxUp",
        "outputId": "40030f23-cf0f-4e7d-d1e6-ea1ef8c233ba"
      }
    },
    {
      "cell_type": "markdown",
      "source": [
        "Find sequence"
      ],
      "metadata": {
        "id": "ejfamKKjXxUq"
      }
    },
    {
      "cell_type": "code",
      "execution_count": 18,
      "source": [
        "copies = []\r\n",
        "\r\n",
        "max_missing_streak_secs = 1\r\n",
        "max_missing_streak = max_missing_streak_secs * descriptors_per_second\r\n",
        "min_duration_seconds = 3\r\n",
        "min_duration = min_duration_seconds * descriptors_per_second\r\n",
        "\r\n",
        "total_candidates = len(candidates)\r\n",
        "for i in range(len(candidates)):\r\n",
        "    print(f\"Progress {round((i/total_candidates)*100, 2)}%\", end=\"\\r\")\r\n",
        "    cand = candidates[i]\r\n",
        "    current_candidate = cand.find_next(neighbours, max_missing_streak, min_duration)\r\n",
        "    if current_candidate.sequence_duration >= min_duration and current_candidate.score() >= 1:\r\n",
        "        copies.append(current_candidate)\r\n",
        "\r\n",
        "print(len(copies))   \r\n",
        "    "
      ],
      "outputs": [
        {
          "output_type": "stream",
          "name": "stdout",
          "text": [
            "32\n"
          ]
        }
      ],
      "metadata": {
        "colab": {
          "base_uri": "https://localhost:8080/"
        },
        "id": "75Qextm_XxUq",
        "outputId": "a05cc7a4-6453-4829-fc99-40c2bd98cb6f"
      }
    },
    {
      "cell_type": "markdown",
      "source": [
        "Contain"
      ],
      "metadata": {
        "id": "6CmHFa9JXxUq"
      }
    },
    {
      "cell_type": "code",
      "execution_count": 19,
      "source": [
        "filtered = []\r\n",
        "\r\n",
        "for i in range(len(copies)):\r\n",
        "    print(f\"Progress {round((i/len(copies))*100, 2)}%\", end=\"\\r\")\r\n",
        "    cani = copies[i]\r\n",
        "    add = True\r\n",
        "    for j in range(len(copies)):\r\n",
        "        canj = copies[j]\r\n",
        "        \r\n",
        "        if i == j:\r\n",
        "            continue\r\n",
        "        \r\n",
        "        elif cani.contains(canj):\r\n",
        "            add = False\r\n",
        "            break\r\n",
        "    \r\n",
        "    if add:\r\n",
        "        filtered.append(cani)\r\n",
        "\r\n",
        "print(len(filtered))\r\n"
      ],
      "outputs": [
        {
          "output_type": "stream",
          "name": "stdout",
          "text": [
            "32\n"
          ]
        }
      ],
      "metadata": {
        "colab": {
          "base_uri": "https://localhost:8080/"
        },
        "id": "ZY99dLtTXxUr",
        "outputId": "cca353ae-5647-434a-ddfb-c1aaaabecd70"
      }
    },
    {
      "cell_type": "markdown",
      "source": [
        "Sort"
      ],
      "metadata": {
        "id": "rrrBov1wXxUr"
      }
    },
    {
      "cell_type": "code",
      "execution_count": 20,
      "source": [
        "# sorted_candidates = filtered\r\n",
        "sorted_candidates = sorted(filtered, key=lambda c: c.song_descriptor_index)\r\n",
        "\r\n",
        "print(len(sorted_candidates))"
      ],
      "outputs": [
        {
          "output_type": "stream",
          "name": "stdout",
          "text": [
            "32\n"
          ]
        }
      ],
      "metadata": {
        "colab": {
          "base_uri": "https://localhost:8080/"
        },
        "id": "dU-fS4-0XxUr",
        "outputId": "3d27f5d3-2adc-4d36-bc66-7d224b66ee93"
      }
    },
    {
      "cell_type": "markdown",
      "source": [
        "Combine"
      ],
      "metadata": {
        "id": "8xRaK6UYXxUs"
      }
    },
    {
      "cell_type": "code",
      "execution_count": 21,
      "source": [
        "max_offset_secs = 2\r\n",
        "max_offset = max_offset_secs * descriptors_per_second\r\n",
        "max_combine_dist_secs = 3\r\n",
        "max_combine_distance = max_combine_dist_secs * descriptors_per_second\r\n",
        "\r\n",
        "for i in range(len(sorted_candidates)):\r\n",
        "    print(f\"Progress {round((i/len(sorted_candidates))*100, 2)}%\", end=\"\\r\")\r\n",
        "    copy_i = sorted_candidates[i]\r\n",
        "    for j in range(i + 1, len(sorted_candidates)):\r\n",
        "        copy_j = sorted_candidates[j]\r\n",
        "\r\n",
        "        if (copy_i.distance(copy_j) <= max_combine_distance) and (copy_i.offset_diff(copy_j) <= max_offset):\r\n",
        "            copy_i.combine(copy_j)\r\n",
        "\r\n",
        "print(len(sorted_candidates))"
      ],
      "outputs": [
        {
          "output_type": "stream",
          "name": "stdout",
          "text": [
            "32\n"
          ]
        }
      ],
      "metadata": {
        "colab": {
          "base_uri": "https://localhost:8080/"
        },
        "id": "sVeC--i2XxUt",
        "outputId": "f32a8640-92f8-4ca8-efa2-102e70c2dbf1"
      }
    },
    {
      "cell_type": "markdown",
      "source": [
        "Overlapped"
      ],
      "metadata": {
        "id": "tP_RAYjdXxUt"
      }
    },
    {
      "cell_type": "code",
      "execution_count": 22,
      "source": [
        "repeated = set()\r\n",
        "off_set_diff_limit_secs = 10\r\n",
        "off_set_diff_limit = off_set_diff_limit_secs * descriptors_per_second\r\n",
        "max_overlap_dist_secs = 3\r\n",
        "max_overlap_distance = max_overlap_dist_secs * descriptors_per_second\r\n",
        "\r\n",
        "for i in range(len(sorted_candidates)):\r\n",
        "    copy_i = sorted_candidates[i]\r\n",
        "    for j in range(i + 1, len(sorted_candidates)):\r\n",
        "        copy_j = sorted_candidates[j]\r\n",
        "\r\n",
        "        if copy_i.distance(copy_j) <= max_overlap_distance and copy_i.offset_diff(copy_j) <= off_set_diff_limit_secs:\r\n",
        "            if copy_i.sequence_duration >= copy_j.sequence_duration:\r\n",
        "                repeated.add(copy_j)\r\n",
        "            else:\r\n",
        "                repeated.add(copy_i)\r\n",
        "\r\n",
        "for copy in repeated:\r\n",
        "    sorted_candidates.remove(copy)\r\n",
        "\r\n",
        "print(len(sorted_candidates))"
      ],
      "outputs": [
        {
          "output_type": "stream",
          "name": "stdout",
          "text": [
            "18\n"
          ]
        }
      ],
      "metadata": {
        "colab": {
          "base_uri": "https://localhost:8080/"
        },
        "id": "UAvIzFJKXxUu",
        "outputId": "497934d2-3ca5-453a-e9f0-d07f8649af16"
      }
    },
    {
      "cell_type": "markdown",
      "source": [
        "Delete short copies"
      ],
      "metadata": {
        "id": "-Uys7cpSXxUv"
      }
    },
    {
      "cell_type": "code",
      "execution_count": 23,
      "source": [
        "filtered_copies = []\r\n",
        "\r\n",
        "for copy in sorted_candidates:\r\n",
        "    if copy.sequence_duration > min_duration:\r\n",
        "        filtered_copies.append(copy)\r\n",
        "\r\n",
        "print(len(filtered_copies))"
      ],
      "outputs": [
        {
          "output_type": "stream",
          "name": "stdout",
          "text": [
            "6\n"
          ]
        }
      ],
      "metadata": {
        "colab": {
          "base_uri": "https://localhost:8080/"
        },
        "id": "5ZbQoIk6XxUv",
        "outputId": "2ece95a7-dd94-4254-97c2-f007b2d49e71"
      }
    },
    {
      "cell_type": "markdown",
      "source": [
        "Get Average Distances"
      ],
      "metadata": {
        "id": "xLgL12xZ6fCS"
      }
    },
    {
      "cell_type": "code",
      "execution_count": 24,
      "source": [
        "for match in filtered_copies:\r\n",
        "    match.avg_distance(distances)\r\n",
        "\r\n",
        "sorted_and_filtered = sorted(filtered_copies, key=lambda c: c.avg_distance)"
      ],
      "outputs": [],
      "metadata": {
        "colab": {
          "base_uri": "https://localhost:8080/",
          "height": 214
        },
        "id": "KtabSWP770iZ",
        "outputId": "dddda0ff-3689-4b9f-fdcf-7b243b5c107c"
      }
    },
    {
      "cell_type": "markdown",
      "source": [
        "Show Sequences"
      ],
      "metadata": {
        "id": "O2bjsIMnXxUv"
      }
    },
    {
      "cell_type": "code",
      "execution_count": 28,
      "source": [
        "import datetime\r\n",
        "\r\n",
        "# print(\"Song Seconds      | Movie Seconds     | Avg Distance | Score\")\r\n",
        "# print(\"------------------------------------------------------------\")\r\n",
        "\r\n",
        "# Debra starts in aprox. 0:41:30\r\n",
        "add_cut = 0\r\n",
        "\r\n",
        "# It worked, the second and third sequence work, 2:01:12 - 2:01:16 | 2:01:48 - 2:01:52 star wars\r\n",
        "\r\n",
        "from prettytable import PrettyTable \r\n",
        "  \r\n",
        "# Specify the Column Names while initializing the Table \r\n",
        "myTable = PrettyTable([\"Song Seconds\", \"Movie Seconds\", \"Avg Distance\", \"Score\"])\r\n",
        "\r\n",
        "for match in sorted_and_filtered:\r\n",
        "    song_start_secs = str(datetime.timedelta(seconds=int((match.song_descriptor_index + add_cut) / descriptors_per_second)))\r\n",
        "    song_end_secs = str(datetime.timedelta(seconds=int((match.song_end_index() + add_cut) / descriptors_per_second)))\r\n",
        "    movie_start_secs = str(datetime.timedelta(seconds=int((match.movie_descriptor_index + add_cut) / descriptors_per_second)))\r\n",
        "    movie_end_secs = str(datetime.timedelta(seconds=int((match.movie_end_index() + add_cut) / descriptors_per_second)))\r\n",
        "    avg_distance = match.avg_distance    \r\n",
        "\r\n",
        "    # print(f\"{match.song_descriptor_index} - {match.song_end_index()} | {match.movie_descriptor_index} - {match.movie_end_index()}\")\r\n",
        "    myTable.add_row([f\"{song_start_secs} - {song_end_secs}\", f\"{movie_start_secs} - {movie_end_secs}\", avg_distance, match.score()])\r\n",
        "    # print(f\"{song_start_secs} - {song_end_secs} | {movie_start_secs} - {movie_end_secs} | {avg_distance} | {match.score()}\")\r\n",
        "\r\n",
        "print(myTable)"
      ],
      "outputs": [
        {
          "output_type": "stream",
          "name": "stdout",
          "text": [
            "+-------------------+-------------------+--------------+-------+\n",
            "|    Song Seconds   |   Movie Seconds   | Avg Distance | Score |\n",
            "+-------------------+-------------------+--------------+-------+\n",
            "| 0:15:05 - 0:15:09 | 0:10:09 - 0:10:13 |    36.66     |  1.0  |\n",
            "| 1:45:15 - 1:45:19 | 0:54:23 - 0:54:27 |    52.74     |  1.5  |\n",
            "| 0:18:47 - 0:18:51 | 0:41:36 - 0:41:40 |    70.23     |  4.0  |\n",
            "| 1:24:40 - 1:24:45 | 1:11:47 - 1:11:52 |    77.73     |  1.5  |\n",
            "| 0:46:08 - 0:46:12 | 0:42:26 - 0:42:30 |    92.07     |  4.0  |\n",
            "| 0:12:26 - 0:12:30 | 0:12:06 - 0:12:10 |    191.59    |  2.0  |\n",
            "+-------------------+-------------------+--------------+-------+\n"
          ]
        }
      ],
      "metadata": {
        "colab": {
          "base_uri": "https://localhost:8080/"
        },
        "id": "E1o8HlDhXxUw",
        "outputId": "2227e951-9a17-437f-eb93-622ee1cc9b75"
      }
    }
  ]
}